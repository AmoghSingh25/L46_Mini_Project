{
 "cells": [
  {
   "cell_type": "markdown",
   "id": "7dbf25be-3373-4c73-ad57-1f2761ba905a",
   "metadata": {},
   "source": [
    "# Experiment - 1"
   ]
  },
  {
   "cell_type": "code",
   "execution_count": 32,
   "id": "ce95ae02-0b9d-4947-aa04-7f29f39771e9",
   "metadata": {},
   "outputs": [],
   "source": [
    "import numpy as np\n",
    "import random\n",
    "import pandas as pd\n",
    "import matplotlib.pyplot as plt\n",
    "import math\n",
    "import pickle\n",
    "import copy\n",
    "from prettytable import PrettyTable\n",
    "\n",
    "import torch\n",
    "import torch.nn as nn\n",
    "import torch.nn.functional as F\n",
    "import torch.optim as optim\n",
    "import torch.profiler\n",
    "from torch.profiler import ProfilerActivity\n",
    "\n",
    "\n",
    "from torchvision import datasets, transforms, models\n",
    "from torchvision.transforms import ToTensor\n",
    "\n",
    "\n",
    "from sklearn.datasets import load_digits\n",
    "from sklearn.model_selection import train_test_split\n",
    "\n",
    "\n",
    "import sys\n",
    "from collections import Counter\n",
    "import numpy as np\n",
    "import time\n",
    "\n",
    "from torchvision.models import resnet50, resnet101\n",
    "\n",
    "import matplotlib.pyplot as plt\n",
    "import IPython.display as ipd\n",
    "\n",
    "from tqdm import tqdm\n",
    "\n",
    "from datetime import datetime\n",
    "import plotly.graph_objects as go\n",
    "\n",
    "\n",
    "from torch.utils.tensorboard import SummaryWriter"
   ]
  },
  {
   "cell_type": "code",
   "execution_count": null,
   "id": "23d5eda5-f11d-4788-8206-b63d18f8cf65",
   "metadata": {},
   "outputs": [],
   "source": [
    "device = torch.device(\"mps\" if torch.mps.is_available() else \"cpu\")\n",
    "print(device)"
   ]
  },
  {
   "cell_type": "code",
   "execution_count": null,
   "id": "11455b83-9d2d-45fa-b0f3-e3584fbc163d",
   "metadata": {},
   "outputs": [],
   "source": [
    "def save_var_pickle(data, save_path, file_name):\n",
    "    with open(save_path+\"/\"+file_name+\".pkl\", 'wb') as file:\n",
    "    \tpickle.dump(data, file)"
   ]
  },
  {
   "cell_type": "code",
   "execution_count": null,
   "id": "266adbf0-b69f-4962-825e-25b01201921a",
   "metadata": {},
   "outputs": [],
   "source": [
    "def grad_calc(grad):\n",
    "    grad = torch.sum(torch.abs(grad)).detach().to(\"cpu\").numpy()\n",
    "    return grad"
   ]
  },
  {
   "cell_type": "code",
   "execution_count": null,
   "id": "cc7b4f82-110d-43f5-a906-e05f44ccf137",
   "metadata": {},
   "outputs": [],
   "source": [
    "def train(model, epochs, optimizer, scheduler, save_best_model=True, train_loader=None, test_loader = None,save_path='Models/best-model.pt', debug_grad= False):\n",
    "    lowest_loss = np.inf\n",
    "    losses = []\n",
    "    val_acc = []\n",
    "    grad_metrics = []\n",
    "    for i in range(epochs):\n",
    "        start_time = time.time()\n",
    "        model.train()\n",
    "        for batch_idx, (data, target) in enumerate(train_loader):\n",
    "            with torch.profiler.profile(\n",
    "                activities=[ProfilerActivity.CPU, ProfilerActivity.CUDA, ProfilerActivity.XPU],\n",
    "                record_shapes=True,\n",
    "                profile_memory=True\n",
    "            ) as prof:\n",
    "                data = data.to(device)\n",
    "                target = target.to(device)\n",
    "        \n",
    "                output = model(data)\n",
    "        \n",
    "                loss = loss_fn(output.squeeze(), target)\n",
    "\n",
    "                if loss < lowest_loss and save_best_model:\n",
    "                    print(save_best_model)\n",
    "                    torch.save(model, save_path)\n",
    "                    lowest_loss = loss\n",
    "        \n",
    "                optimizer.zero_grad()\n",
    "                loss.backward()\n",
    "                optimizer.step()\n",
    "                    \n",
    "                for name, param in model.named_parameters():\n",
    "                    if debug_grad:\n",
    "                        print(name, torch.sum(torch.abs(param.grad)))\n",
    "                    grad_metrics.append(grad_calc(param.grad))\n",
    "                losses.append(loss.item())\n",
    "        val_acc.append(test(model,1, test_loader))\n",
    "        end_time = time.time()\n",
    "        print(\"Epoch \",i,\" : \\n Val Acc = \",test(model,1,test_loader), \" Loss = \", losses[-1], \"Epoch time = \", round(end_time - start_time, 3))\n",
    "        scheduler.step()\n",
    "    return losses, val_acc, prof, grad_metrics"
   ]
  },
  {
   "cell_type": "code",
   "execution_count": null,
   "id": "4176e6b4-5857-4525-bced-e7e6c29598e4",
   "metadata": {},
   "outputs": [],
   "source": [
    "def multi_train(model, epochs, optimizer, scheduler,num_runs=1, save_best_model=False, train_loader=None, test_loader = None,save_path='Models/best-model.pt', debug_grad= False, save_comp_path=None):\n",
    "    comp_loss = []\n",
    "    comp_acc = []\n",
    "    comp_prof = []\n",
    "    comp_grad = []\n",
    "    for i in range(num_runs):\n",
    "        print(\"Run No : \", i+1)\n",
    "        model_temp = copy.deepcopy(model)\n",
    "        model_temp.to(device)\n",
    "        \n",
    "        loss_fn = torch.nn.CrossEntropyLoss()\n",
    "        optimizer = torch.optim.Adam(model_temp.parameters(), lr=0.001)        \n",
    "        scheduler = optim.lr_scheduler.StepLR(optimizer, step_size=5, gamma=0.1)\n",
    "        \n",
    "        a,b,c,d = train(model_temp, epochs, optimizer, scheduler, save_best_model, train_loader, test_loader, save_path, debug_grad)\n",
    "        \n",
    "        comp_loss.append(a)\n",
    "        comp_acc.append(b)\n",
    "        comp_prof.append(c)\n",
    "        comp_grad.append(d)\n",
    "    if not save_comp_path is None:\n",
    "        save_var_pickle(comp_loss, save_comp_path, \"comp_loss\")\n",
    "        save_var_pickle(comp_acc, save_comp_path, \"comp_acc\")\n",
    "        # save_var_pickle(comp_prof, save_comp_path, \"comp_prof\")\n",
    "        save_var_pickle(comp_grad, save_comp_path, \"comp_grad\")\n",
    "    return comp_loss, comp_acc, comp_prof, comp_grad"
   ]
  },
  {
   "cell_type": "code",
   "execution_count": null,
   "id": "1b11ca87-2431-46c9-ad97-188be84f3ed8",
   "metadata": {},
   "outputs": [],
   "source": [
    "def number_of_correct(pred, target):\n",
    "    return pred.squeeze().eq(target).sum().item()\n",
    "\n",
    "def test(model, epoch, input_loader):\n",
    "    model.eval()\n",
    "    correct = 0\n",
    "    for data, target in input_loader:\n",
    "\n",
    "        data = data.to(device)\n",
    "        target = target.to(device)\n",
    "\n",
    "        try:\n",
    "          output = model(data)\n",
    "        except AttributeError as e:\n",
    "          print(f\"Error: {e}\")\n",
    "          continue\n",
    "\n",
    "\n",
    "        pred = output.argmax(dim=-1)\n",
    "        correct += number_of_correct(pred, target)\n",
    "\n",
    "    return correct / len(input_loader.dataset)\n",
    "    print(f\"\\nTest \\tAccuracy: {correct}/{len(input_loader.dataset)} ({100. * correct / len(input_loader.dataset):.0f}%)\\n\")"
   ]
  },
  {
   "cell_type": "code",
   "execution_count": null,
   "id": "b7e9308e-1000-4722-9196-1edc250b0d31",
   "metadata": {},
   "outputs": [],
   "source": [
    "def get_expanded_weight_linear(inp_layer, reference_layer, expand_type='symmetric'):\n",
    "    if len(inp_layer.weight.shape) > 2:\n",
    "        out_size, inp_size = tuple(inp_layer.weight.shape)[:2]\n",
    "    else:\n",
    "        out_size, inp_size = tuple(inp_layer.weight.shape)\n",
    "    layer = nn.Linear(inp_size, out_size)\n",
    "    layer.weight = nn.Parameter(torch.zeros_like(layer.weight))\n",
    "    ref_size = reference_layer.weight.shape\n",
    "    r_factor = layer.weight.shape[0] / ref_size[0]\n",
    "    c_factor = layer.weight.shape[1] / ref_size[1]\n",
    "\n",
    "    # print(r_factor)\n",
    "    # print(c_factor)\n",
    "    # print(ref_size)\n",
    "    # print(layer.weight.shape)\n",
    "\n",
    "    assert r_factor == 1 or r_factor % 2 == 0, \"Layer resizing should 1 or multiple of 2\"\n",
    "    assert c_factor == 1 or c_factor % 2 == 0, \"Layer resizing should 1 or multiple of 2\"\n",
    "    methods = ['symmetric', 'noisy_symmetric', 'noisy_diagonal', 'diagonal']\n",
    "    assert expand_type in methods, \"Invalid method\"\n",
    "\n",
    "    if r_factor == 1 and c_factor == 1:\n",
    "        return (layer.weight, layer.bias)\n",
    "\n",
    "    r_factor = int(r_factor)\n",
    "    c_factor = int(c_factor)\n",
    "\n",
    "    # print(r_factor)\n",
    "    # print(c_factor)\n",
    "\n",
    "    \n",
    "    if expand_type=='symmetric' or expand_type=='noisy_symmetric':\n",
    "        with torch.no_grad():\n",
    "            layer.weight = nn.Parameter(torch.zeros_like(layer.weight))\n",
    "            for i in range(r_factor):\n",
    "                noise = torch.rand_like(reference_layer.weight)\n",
    "                for j in range(c_factor):\n",
    "\n",
    "                    # Modify division by 2 for other cases, 4 fold, x-fold expansion\n",
    "                    \n",
    "                    if expand_type=='noisy_symmetric':\n",
    "                        # print(\"adding noise\")\n",
    "                        # print((-1)**j)\n",
    "                        layer.weight[i*ref_size[0]:(i+1)*ref_size[0], j*ref_size[1]:(j+1)*ref_size[1]] = reference_layer.weight / 2 + ((-1)**j) * noise \n",
    "                    else:\n",
    "                        # print(layer.weight.shape)\n",
    "                        layer.weight[i*ref_size[0]:(i+1)*ref_size[0], j*ref_size[1]:(j+1)*ref_size[1]] = reference_layer.weight / 2\n",
    "\n",
    "                    layer.bias[i*ref_size[0]:(i+1)*ref_size[0]] = reference_layer.bias\n",
    "    \n",
    "    elif expand_type==\"noisy_diagonal\" or expand_type==\"diagonal\":\n",
    "        with torch.no_grad():\n",
    "            layer.weight = nn.Parameter(torch.zeros_like(layer.weight))\n",
    "            for i in range(r_factor):\n",
    "                noise = torch.rand_like(reference_layer.weight)\n",
    "                for j in range(c_factor):\n",
    "                    if expand_type=='noisy_diagonal':    \n",
    "                        if i==j:\n",
    "                            layer.weight[i*ref_size[0]:(i+1)*ref_size[0], j*ref_size[1]:(j+1)*ref_size[1]] = reference_layer.weight + ((-1)**j) * noise \n",
    "                        else:\n",
    "                            layer.weight[i*ref_size[0]:(i+1)*ref_size[0], j*ref_size[1]:(j+1)*ref_size[1]] = ((-1)**j) * noise\n",
    "                            # layer.weight[i*ref_size[0]:(i+1)*ref_size[0], j*ref_size[1]:(j+1)*ref_size[1]] = 0\n",
    "                    \n",
    "                    elif expand_type=='diagonal' and i==j:\n",
    "                        layer.weight[i*ref_size[0]:(i+1)*ref_size[0], j*ref_size[1]:(j+1)*ref_size[1]] = reference_layer.weight\n",
    "\n",
    "                    layer.bias[i*ref_size[0]:(i+1)*ref_size[0]] = reference_layer.bias\n",
    "                    \n",
    "    return (layer.weight, layer.bias)"
   ]
  },
  {
   "cell_type": "code",
   "execution_count": null,
   "id": "79aa0205-bd7e-47e2-a3cc-f2998894bfe7",
   "metadata": {},
   "outputs": [],
   "source": [
    "def get_expanded_weight_conv2d(inp_layer, reference_layer, expand_type='symmetric'):\n",
    "    if len(inp_layer.weight.shape) > 2:\n",
    "        out_size, inp_size = tuple(inp_layer.weight.shape)[:2]\n",
    "    else:\n",
    "        out_size, inp_size = tuple(inp_layer.weight.shape)\n",
    "    layer = nn.Conv2d(inp_size, out_size, inp_layer.kernel_size[0])\n",
    "    layer.weight = nn.Parameter(torch.zeros_like(layer.weight))\n",
    "    ref_size = reference_layer.weight.shape\n",
    "    r_factor = layer.weight.shape[0] / ref_size[0]\n",
    "    c_factor = layer.weight.shape[1] / ref_size[1]\n",
    "\n",
    "    # print(r_factor)\n",
    "    # print(c_factor)\n",
    "    # print(ref_size)\n",
    "    # print(layer.weight.shape)\n",
    "\n",
    "    assert r_factor == 1 or r_factor % 2 == 0, \"Layer resizing should 1 or multiple of 2\"\n",
    "    assert c_factor == 1 or c_factor % 2 == 0, \"Layer resizing should 1 or multiple of 2\"\n",
    "    \n",
    "    methods = ['symmetric', 'noisy_symmetric', 'noisy_diagonal', 'diagonal']\n",
    "    assert expand_type in methods, \"Invalid method\"\n",
    "    \n",
    "    if r_factor == 1 and c_factor == 1:\n",
    "        return (layer.weight, layer.bias)\n",
    "\n",
    "    r_factor = int(r_factor)\n",
    "    c_factor = int(c_factor)\n",
    "\n",
    "    # print(r_factor)\n",
    "    # print(c_factor)\n",
    "\n",
    "    # print(layer.weight.shape)\n",
    "    # print(reference_layer.weight.shape)\n",
    "\n",
    "    \n",
    "    if expand_type=='symmetric' or expand_type=='noisy_symmetric':\n",
    "        with torch.no_grad():\n",
    "            layer.weight = nn.Parameter(torch.zeros_like(layer.weight))\n",
    "            for i in range(r_factor):\n",
    "                noise = torch.rand_like(reference_layer.weight)\n",
    "                for j in range(c_factor):\n",
    "\n",
    "                    # Modify division by 2 for other cases, 4 fold, x-fold expansion\n",
    "                    \n",
    "                    if expand_type=='noisy_symmetric':\n",
    "                        # print(\"adding noise\")\n",
    "                        # print((-1)**j)\n",
    "                        layer.weight[i*ref_size[0]:(i+1)*ref_size[0], j*ref_size[1]:(j+1)*ref_size[1]] = reference_layer.weight / 2 + ((-1)**j) * noise \n",
    "                    else:\n",
    "                        layer.weight[i*ref_size[0]:(i+1)*ref_size[0], j*ref_size[1]:(j+1)*ref_size[1]] = reference_layer.weight / 2\n",
    "\n",
    "                    layer.bias[i*ref_size[0]:(i+1)*ref_size[0]] = reference_layer.bias\n",
    "    \n",
    "    elif expand_type==\"noisy_diagonal\" or expand_type==\"diagonal\":\n",
    "        with torch.no_grad():\n",
    "            layer.weight = nn.Parameter(torch.zeros_like(layer.weight))\n",
    "            for i in range(r_factor):\n",
    "                noise = torch.rand_like(reference_layer.weight)\n",
    "                for j in range(c_factor):\n",
    "                    if expand_type=='noisy_diagonal':    \n",
    "                        if i==j:\n",
    "                            layer.weight[i*ref_size[0]:(i+1)*ref_size[0], j*ref_size[1]:(j+1)*ref_size[1]] = reference_layer.weight + ((-1)**j) * noise \n",
    "                        else:\n",
    "                            layer.weight[i*ref_size[0]:(i+1)*ref_size[0], j*ref_size[1]:(j+1)*ref_size[1]] = ((-1)**j) * noise\n",
    "                            # layer.weight[i*ref_size[0]:(i+1)*ref_size[0], j*ref_size[1]:(j+1)*ref_size[1]] = 0\n",
    "                    \n",
    "                    elif expand_type=='diagonal' and i==j:\n",
    "                        layer.weight[i*ref_size[0]:(i+1)*ref_size[0], j*ref_size[1]:(j+1)*ref_size[1]] = reference_layer.weight\n",
    "\n",
    "                    layer.bias[i*ref_size[0]:(i+1)*ref_size[0]] = reference_layer.bias\n",
    "                    \n",
    "    return (layer.weight, layer.bias)"
   ]
  },
  {
   "cell_type": "code",
   "execution_count": null,
   "id": "289c4e62-c591-41e1-92b4-31622f037ed4",
   "metadata": {},
   "outputs": [],
   "source": [
    "def expand_training(tiny_model, larger_model, train_loader,val_loader, epochs, tiny_model_weight, large_model_weight):\n",
    "    train_loss = []\n",
    "    val_acc = []\n",
    "    \n",
    "    larger_model.train()\n",
    "    \n",
    "    loss_1 = nn.CrossEntropyLoss()\n",
    "    \n",
    "    optimizer = optim.Adam(larger_model.parameters(), lr=0.01)\n",
    "    scheduler = optim.lr_scheduler.StepLR(optimizer, step_size=10, gamma=0.1)\n",
    "    \n",
    "    tiny_model.eval()\n",
    "\n",
    "    for epoch in range(epochs):\n",
    "        running_loss = 0.0\n",
    "        for inputs, labels in train_loader:\n",
    "            \n",
    "            inputs, labels = inputs.to(device), labels.to(device)\n",
    "            \n",
    "            learned_output = larger_model(inputs)\n",
    "\n",
    "            optimizer.zero_grad()\n",
    "            with torch.no_grad():\n",
    "                main_logits = tiny_model(inputs)\n",
    "\n",
    "\n",
    "            soft_targets = nn.functional.softmax(main_logits , dim=-1)\n",
    "            soft_prob = nn.functional.log_softmax(learned_output , dim=-1)\n",
    "\n",
    "            soft_targets_loss = torch.sum(soft_targets * (soft_targets.log() - soft_prob)) / soft_prob.size()[0]\n",
    "            learned_output = learned_output.reshape(learned_output.shape[0], -1)\n",
    "\n",
    "            \n",
    "            learned_output = loss_1(learned_output, labels)\n",
    "            loss = tiny_model_weight * soft_targets_loss + large_model_weight * learned_output\n",
    "            \n",
    "            loss.backward()\n",
    "            optimizer.step()\n",
    "\n",
    "            if not math.isnan(loss.item()):\n",
    "                running_loss += loss.item()\n",
    "\n",
    "        print(f\"Epoch {epoch+1}/{epochs}, Loss: {running_loss / len(train_loader)}\")\n",
    "        train_loss.append(running_loss / len(train_loader))\n",
    "        val_acc.append(test(larger_model,1,val_loader))\n",
    "        scheduler.step()\n",
    "    return train_loss, val_acc"
   ]
  },
  {
   "cell_type": "code",
   "execution_count": null,
   "id": "488cf67c-957a-41d2-a746-224b509a97a6",
   "metadata": {},
   "outputs": [],
   "source": [
    "class LinearModelSmall(nn.Module):\n",
    "    def __init__(self, input_size=32, output_size=10, batch_size=32):\n",
    "        super().__init__()\n",
    "        self.output_size = output_size\n",
    "        self.input_size = input_size\n",
    "        self.batch_size = batch_size\n",
    "        self.linear1 = nn.Linear(self.input_size, 64)\n",
    "        self.linear2 = nn.Linear(64, 128)\n",
    "        self.linear3 = nn.Linear(128, self.output_size)\n",
    "        \n",
    "    def forward(self, x):\n",
    "        x = torch.reshape(x, (self.batch_size, -1))\n",
    "\n",
    "\n",
    "        x = self.linear1(x)\n",
    "        x = F.relu(x)\n",
    "\n",
    "        x = self.linear2(x)\n",
    "        x = F.relu(x)\n",
    "        \n",
    "        x = self.linear3(x)\n",
    "        \n",
    "        return F.log_softmax(x, dim=1)"
   ]
  },
  {
   "cell_type": "code",
   "execution_count": null,
   "id": "5ed646a9-30c3-49ec-aed0-296805ddac41",
   "metadata": {},
   "outputs": [],
   "source": [
    "# class LinearModelLarge(nn.Module):\n",
    "#     def __init__(self, input_size=32, output_size=10, batch_size=32, ref_model = None):\n",
    "#         super().__init__() \n",
    "#         self.output_size = output_size\n",
    "#         self.input_size = input_size\n",
    "#         self.batch_size = batch_size\n",
    "#         self.linear1 = nn.Linear(self.input_size, 256)\n",
    "#         self.linear2 = nn.Linear(256, 1024)\n",
    "#         self.linear3 = nn.Linear(1024, 512)\n",
    "#         self.linear4 = nn.Linear(512, self.output_size)\n",
    "#         if not ref_model == None:\n",
    "#             with torch.no_grad():\n",
    "#                 self.linear1.weight = torch.nn.Parameter(ref_model.linear1.weight + torch.rand_like(ref_model.linear1.weight))\n",
    "    \n",
    "#                 self.linear2.weight[:512, :] = ref_model.linear2.weight + torch.rand_like(ref_model.linear2.weight)\n",
    "#                 self.linear2.weight[512:, :] = ref_model.linear2.weight + torch.rand_like(ref_model.linear2.weight)\n",
    "#                 # self.linear2.weight[:512, 128:] = ref_model.linear2.weight + torch.rand_like(ref_model.linear2.weight)\n",
    "#                 # self.linear2.weight[512:, 128:] = ref_model.linear2.weight + torch.rand_like(ref_model.linear2.weight)\n",
    "                \n",
    "#                 self.linear4.weight = torch.nn.Parameter(ref_model.linear3.weight + torch.rand_like(ref_model.linear3.weight))\n",
    "\n",
    "#                 self.linear1.to(device)\n",
    "#                 self.linear2.to(device)\n",
    "#                 self.linear3.to(device)\n",
    "#                 self.linear4.to(device)\n",
    "            \n",
    "        \n",
    "#     def forward(self, x):        \n",
    "#         x = torch.reshape(x, (self.batch_size, -1))\n",
    "#         x = self.linear1(x)\n",
    "#         x = F.relu(x)\n",
    "\n",
    "#         x = self.linear2(x)\n",
    "#         x = F.relu(x)\n",
    "        \n",
    "#         x = self.linear3(x)\n",
    "#         x = F.relu(x)\n",
    "\n",
    "\n",
    "#         x = self.linear4(x)\n",
    "\n",
    "#         return F.log_softmax(x, dim=1)"
   ]
  },
  {
   "cell_type": "code",
   "execution_count": 4,
   "id": "7a59505e-8fc0-43b5-8317-b4a16f814c77",
   "metadata": {},
   "outputs": [],
   "source": [
    "class LinearModelLargeFunction(nn.Module):\n",
    "    def __init__(self, input_size=32, output_size=10, batch_size=32, ref_model = None, expansion_type=\"symmetric\"):\n",
    "        super().__init__() \n",
    "        self.output_size = output_size\n",
    "        self.input_size = input_size\n",
    "        self.batch_size = batch_size\n",
    "        self.expansion_type=expansion_type\n",
    "\n",
    "        # self.linear1 = nn.Linear(self.input_size, 256)\n",
    "        # self.linear2 = nn.Linear(256, 512)\n",
    "        # self.linear3 = nn.Linear(512, 1024)\n",
    "        # self.linear4 = nn.Linear(1024, self.output_size)\n",
    "        \n",
    "        self.linear1 = nn.Linear(self.input_size, 128)\n",
    "        self.linear2 = nn.Linear(128, 256)\n",
    "        # self.linear3 = nn.Linear(1024, 2048)\n",
    "        # self.linear3 = nn.Linear(2048, 1024)\n",
    "        self.linear5 = nn.Linear(256, self.output_size)\n",
    "        if not ref_model == None:\n",
    "            self.param1 = get_expanded_weight_linear(self.linear1, ref_model.linear1,self.expansion_type)\n",
    "            self.param2 = get_expanded_weight_linear(self.linear2,ref_model.linear2,self.expansion_type)\n",
    "            # self.param3 = get_expanded_weight_linear(1024,2048,ref_model.linear3)\n",
    "            # self.param4 = get_expanded_weight_linear(2048,1024,ref_model.linear4)\n",
    "            self.param5 = get_expanded_weight_linear(self.linear5,ref_model.linear3,self.expansion_type)\n",
    "            \n",
    "            # self.param4 = get_expanded_weight_linear(512,self.output_size,ref_model.linear3)\n",
    "            with torch.no_grad():\n",
    "                self.linear1.weight = torch.nn.Parameter(self.param1[0].detach().clone())\n",
    "                self.linear1.bias = torch.nn.Parameter(self.param1[1].detach().clone())\n",
    "                \n",
    "                self.linear2.weight = torch.nn.Parameter(self.param2[0].detach().clone())\n",
    "                self.linear2.bias = torch.nn.Parameter(self.param2[1].detach().clone())\n",
    "\n",
    "                # self.linear3.weight = self.param3[0]\n",
    "                # self.linear3.bias = self.param3[1]\n",
    "\n",
    "                # self.linear4.weight = self.param4[0]\n",
    "                # self.linear4.bias = self.param4[1]\n",
    "\n",
    "                self.linear5.weight = torch.nn.Parameter(self.param5[0].detach().clone())\n",
    "                self.linear5.bias = torch.nn.Parameter(self.param5[1].detach().clone())\n",
    "                \n",
    "                # self.linear4.weight = self.param4[0]\n",
    "                # self.linear4.bias = self.param4[1]\n",
    "        self.linear1.to(device)\n",
    "        self.linear2.to(device)\n",
    "        # self.linear3.to(device)\n",
    "        self.linear5.to(device)\n",
    "            \n",
    "        # if not ref_model == None:\n",
    "        #     with torch.no_grad():\n",
    "        #         self.linear1.weight = torch.nn.Parameter(ref_model.linear1.weight + torch.rand_like(ref_model.linear1.weight))\n",
    "    \n",
    "        #         self.linear2.weight[:512, :] = ref_model.linear2.weight + torch.rand_like(ref_model.linear2.weight)\n",
    "        #         self.linear2.weight[512:, :] = ref_model.linear2.weight + torch.rand_like(ref_model.linear2.weight)\n",
    "        #         # self.linear2.weight[:512, 128:] = ref_model.linear2.weight + torch.rand_like(ref_model.linear2.weight)\n",
    "        #         # self.linear2.weight[512:, 128:] = ref_model.linear2.weight + torch.rand_like(ref_model.linear2.weight)\n",
    "                \n",
    "        #         self.linear4.weight = torch.nn.Parameter(ref_model.linear3.weight + torch.rand_like(ref_model.linear3.weight))\n",
    "\n",
    "        #         self.linear1.to(device)\n",
    "        #         self.linear2.to(device)\n",
    "        #         self.linear3.to(device)\n",
    "        #         self.linear4.to(device)\n",
    "            \n",
    "        \n",
    "    def forward(self, x):\n",
    "        x = torch.reshape(x, (self.batch_size, -1))\n",
    "\n",
    "        \n",
    "        x = self.linear1(x)\n",
    "        x = F.relu(x)\n",
    "\n",
    "        x = self.linear2(x)\n",
    "        x = F.relu(x)\n",
    "        \n",
    "        # x = self.linear3(x)\n",
    "        # x = F.relu(x)\n",
    "\n",
    "        x = self.linear5(x)\n",
    "\n",
    "        return F.log_softmax(x, dim=1)"
   ]
  },
  {
   "cell_type": "code",
   "execution_count": 5,
   "id": "829a2c0c-be16-4df6-b6e4-0a2c574c86ec",
   "metadata": {},
   "outputs": [],
   "source": [
    "class LinearModelSingleLayer(nn.Module):\n",
    "    def __init__(self, input_size=32, output_size=10, batch_size=32, ref_model = None, expansion_type=\"symmetric\"):\n",
    "        super().__init__() \n",
    "        self.output_size = output_size\n",
    "        self.input_size = input_size\n",
    "        self.batch_size = batch_size\n",
    "        self.expansion_type = expansion_type\n",
    "\n",
    "        # self.linear1 = nn.Linear(self.input_size, 256)\n",
    "        # self.linear2 = nn.Linear(256, 512)\n",
    "        # self.linear3 = nn.Linear(512, 1024)\n",
    "        # self.linear4 = nn.Linear(1024, self.output_size)\n",
    "        \n",
    "        self.linear1 = nn.Linear(self.input_size, 128)\n",
    "        self.linear2 = nn.Linear(128, 256)\n",
    "        # self.linear3 = nn.Linear(1024, 2048)\n",
    "        # self.linear3 = nn.Linear(2048, 1024)\n",
    "        self.linear5 = nn.Linear(256, self.output_size)\n",
    "        if not ref_model == None:\n",
    "            print(self.expansion_type)\n",
    "            self.param2 = get_expanded_weight_linear(self.linear2,ref_model.linear2,self.expansion_type)\n",
    "\n",
    "            with torch.no_grad():\n",
    "                self.linear2.weight = torch.nn.Parameter(self.param2[0].detach().clone())\n",
    "                self.linear2.bias = torch.nn.Parameter(self.param2[1].detach().clone())\n",
    "        \n",
    "        self.linear1.to(device)\n",
    "        self.linear2.to(device)\n",
    "        self.linear5.to(device)\n",
    "\n",
    "        \n",
    "    def forward(self, x):\n",
    "        x = torch.reshape(x, (self.batch_size, -1))\n",
    "        x = self.linear1(x)\n",
    "        x = F.relu(x)\n",
    "\n",
    "        x = self.linear2(x)\n",
    "        x = F.relu(x)\n",
    "        \n",
    "        x = self.linear5(x)\n",
    "\n",
    "        return F.log_softmax(x, dim=1)"
   ]
  },
  {
   "cell_type": "markdown",
   "id": "c3647ac0-398e-4efa-8677-e1dde1f059af",
   "metadata": {},
   "source": [
    "# Experiment - 1\n",
    "\n",
    "In this experiment, the process of knowledge distillation is reversed, with a larger model being trained based off the smaller trained model. This experiment would not be expected to achieve a reduction in compute required for training the larger model in comparison to training from scratch. Instead, this is an experiment to study if it is possible to extend the learning of the smaller model to a larger model using the same technique as in knowledge distillation."
   ]
  },
  {
   "cell_type": "markdown",
   "id": "98798c71-385b-4ab0-8807-56f4ee9aa7d4",
   "metadata": {
    "jp-MarkdownHeadingCollapsed": true
   },
   "source": [
    "## Datasets\n",
    "- CIFAR 10/12\n",
    "- MNIST\n",
    "- Image Net"
   ]
  },
  {
   "cell_type": "markdown",
   "id": "47c49b3f-367b-463f-a02f-4945679e6324",
   "metadata": {
    "jp-MarkdownHeadingCollapsed": true
   },
   "source": [
    "## CIFAR10"
   ]
  },
  {
   "cell_type": "code",
   "execution_count": 15,
   "id": "0fbabf3f-9e36-43a7-bef7-0867e5d0847c",
   "metadata": {},
   "outputs": [
    {
     "name": "stdout",
     "output_type": "stream",
     "text": [
      "Files already downloaded and verified\n",
      "Files already downloaded and verified\n"
     ]
    }
   ],
   "source": [
    "IMG_SHAPE = 16\n",
    "\n",
    "training_data = datasets.CIFAR10(\n",
    "    root=\"data/CIFAR10\",\n",
    "    train=True,\n",
    "    download=True,\n",
    "    transform=transforms.Compose([\n",
    "        transforms.ToTensor(),\n",
    "        transforms.Grayscale(),\n",
    "        transforms.Resize((IMG_SHAPE, IMG_SHAPE))\n",
    "    ])\n",
    ")\n",
    "\n",
    "test_data = datasets.CIFAR10(\n",
    "    root=\"data/CIFAR10\",\n",
    "    train=False,\n",
    "    download=True,\n",
    "    transform=transforms.Compose([\n",
    "        transforms.ToTensor(),\n",
    "        transforms.Grayscale(),\n",
    "        transforms.Resize((IMG_SHAPE, IMG_SHAPE))\n",
    "        \n",
    "        \n",
    "    ])\n",
    ")\n",
    "\n",
    "generator = torch.Generator().manual_seed(1213442)"
   ]
  },
  {
   "cell_type": "code",
   "execution_count": 16,
   "id": "7cddc716-b18f-48cb-b4c5-f2d04ff8a225",
   "metadata": {},
   "outputs": [],
   "source": [
    "train_loader = torch.utils.data.DataLoader(training_data, batch_size=32, shuffle=True, generator=generator, drop_last=True)\n",
    "test_loader = torch.utils.data.DataLoader(test_data, batch_size=32, shuffle=False, generator=generator, drop_last=True)"
   ]
  },
  {
   "cell_type": "code",
   "execution_count": 17,
   "id": "2b6a31d3-9f10-4741-898e-a89027098983",
   "metadata": {},
   "outputs": [
    {
     "name": "stdout",
     "output_type": "stream",
     "text": [
      "torch.Size([1, 16, 16])\n",
      "torch.Size([1, 16, 16])\n",
      "torch.Size([1, 16, 16])\n",
      "torch.Size([1, 16, 16])\n",
      "torch.Size([1, 16, 16])\n"
     ]
    },
    {
     "data": {
      "image/png": "[encoded data removed]",
      "text/plain": [
       "<Figure size 640x480 with 5 Axes>"
      ]
     },
     "metadata": {},
     "output_type": "display_data"
    }
   ],
   "source": [
    "for i in range(5):\n",
    "    ax = plt.subplot(1,5,i+1)\n",
    "    img = train_loader.dataset[i][0]\n",
    "    print(img.shape)\n",
    "    ax.imshow(img.reshape(IMG_SHAPE, IMG_SHAPE,-1))\n",
    "    ax.title.set_text(int(train_loader.dataset[i][1]))\n",
    "plt.show()"
   ]
  },
  {
   "cell_type": "markdown",
   "id": "ecc15684-a8ae-4b81-add5-984bb5255a98",
   "metadata": {},
   "source": [
    "### Small Model - 3 Layers "
   ]
  },
  {
   "cell_type": "code",
   "execution_count": 18,
   "id": "920f3cde-7a0a-4aab-806e-2ad02819118b",
   "metadata": {},
   "outputs": [],
   "source": [
    "small_model = LinearModelSmall(IMG_SHAPE**2, output_size=len(training_data.classes), batch_size=train_loader.batch_size)"
   ]
  },
  {
   "cell_type": "code",
   "execution_count": 19,
   "id": "bdc6ef44-d868-4bf0-b3a2-a7d5db571b46",
   "metadata": {},
   "outputs": [
    {
     "data": {
      "text/plain": [
       "LinearModelSmall(\n",
       "  (linear1): Linear(in_features=256, out_features=128, bias=True)\n",
       "  (linear2): Linear(in_features=128, out_features=256, bias=True)\n",
       "  (linear3): Linear(in_features=256, out_features=10, bias=True)\n",
       ")"
      ]
     },
     "execution_count": 19,
     "metadata": {},
     "output_type": "execute_result"
    }
   ],
   "source": [
    "small_model.to(device)"
   ]
  },
  {
   "cell_type": "code",
   "execution_count": null,
   "id": "a2475b9f-9fa8-4641-b787-7508df61d379",
   "metadata": {
    "scrolled": true
   },
   "outputs": [],
   "source": [
    "test(small_model,1,test_loader)"
   ]
  },
  {
   "cell_type": "code",
   "execution_count": null,
   "id": "f17e8296-018d-4170-9598-90b74b64e1eb",
   "metadata": {},
   "outputs": [],
   "source": [
    "loss_fn = torch.nn.CrossEntropyLoss()\n",
    "\n",
    "optimizer = torch.optim.Adam(small_model.parameters(), lr=0.001)\n",
    "\n",
    "scheduler = optim.lr_scheduler.StepLR(optimizer, step_size=10, gamma=0.1)"
   ]
  },
  {
   "cell_type": "code",
   "execution_count": 130,
   "id": "4da1f3e3-dd4b-4e50-9b40-29f2f54987e4",
   "metadata": {
    "scrolled": true
   },
   "outputs": [
    {
     "name": "stderr",
     "output_type": "stream",
     "text": [
      "/Users/amogh/miniforge3/envs/py312/lib/python3.12/site-packages/torch/autograd/profiler.py:263: UserWarning: CUDA is not available, disabling CUDA profiling\n",
      "  warn(\"CUDA is not available, disabling CUDA profiling\")\n"
     ]
    },
    {
     "name": "stdout",
     "output_type": "stream",
     "text": [
      "Epoch  0  : \n",
      " Val Acc =  0.2546  Loss =  1.976209282875061 Epoch time =  14.364\n",
      "Epoch  1  : \n",
      " Val Acc =  0.2356  Loss =  1.8036168813705444 Epoch time =  14.423\n",
      "Epoch  2  : \n",
      " Val Acc =  0.255  Loss =  2.1352272033691406 Epoch time =  15.757\n",
      "Epoch  3  : \n",
      " Val Acc =  0.2345  Loss =  1.9438369274139404 Epoch time =  15.507\n",
      "Epoch  4  : \n",
      " Val Acc =  0.2626  Loss =  2.042726516723633 Epoch time =  14.582\n",
      "Epoch  5  : \n",
      " Val Acc =  0.2541  Loss =  2.063892364501953 Epoch time =  15.057\n",
      "Epoch  6  : \n",
      " Val Acc =  0.253  Loss =  2.383035182952881 Epoch time =  15.63\n",
      "Epoch  7  : \n",
      " Val Acc =  0.2527  Loss =  2.013512134552002 Epoch time =  14.918\n",
      "Epoch  8  : \n",
      " Val Acc =  0.2607  Loss =  1.9062864780426025 Epoch time =  14.557\n",
      "Epoch  9  : \n",
      " Val Acc =  0.2422  Loss =  2.0048298835754395 Epoch time =  14.621\n",
      "Epoch  10  : \n",
      " Val Acc =  0.2776  Loss =  1.8505772352218628 Epoch time =  15.411\n",
      "Epoch  11  : \n",
      " Val Acc =  0.2765  Loss =  1.8166671991348267 Epoch time =  15.074\n",
      "Epoch  12  : \n",
      " Val Acc =  0.2788  Loss =  1.9583423137664795 Epoch time =  14.302\n",
      "Epoch  13  : \n",
      " Val Acc =  0.2791  Loss =  1.9570553302764893 Epoch time =  14.537\n",
      "Epoch  14  : \n",
      " Val Acc =  0.276  Loss =  1.6930410861968994 Epoch time =  15.093\n",
      "Epoch  15  : \n",
      " Val Acc =  0.2763  Loss =  1.8900551795959473 Epoch time =  14.839\n",
      "Epoch  16  : \n",
      " Val Acc =  0.2754  Loss =  1.9376723766326904 Epoch time =  15.267\n",
      "Epoch  17  : \n",
      " Val Acc =  0.2776  Loss =  1.6879684925079346 Epoch time =  14.782\n",
      "Epoch  18  : \n",
      " Val Acc =  0.2749  Loss =  1.9374277591705322 Epoch time =  15.062\n",
      "Epoch  19  : \n",
      " Val Acc =  0.2783  Loss =  2.053169012069702 Epoch time =  14.943\n",
      "Epoch  20  : \n",
      " Val Acc =  0.2803  Loss =  1.827702522277832 Epoch time =  15.095\n",
      "Epoch  21  : \n",
      " Val Acc =  0.2806  Loss =  2.0536201000213623 Epoch time =  14.629\n",
      "Epoch  22  : \n",
      " Val Acc =  0.2814  Loss =  1.9772422313690186 Epoch time =  14.593\n",
      "Epoch  23  : \n",
      " Val Acc =  0.281  Loss =  1.954323410987854 Epoch time =  15.207\n",
      "Epoch  24  : \n",
      " Val Acc =  0.2815  Loss =  1.8095436096191406 Epoch time =  14.734\n",
      "Epoch  25  : \n",
      " Val Acc =  0.2816  Loss =  1.9675664901733398 Epoch time =  14.741\n",
      "Epoch  26  : \n",
      " Val Acc =  0.2803  Loss =  1.849922776222229 Epoch time =  14.402\n",
      "Epoch  27  : \n",
      " Val Acc =  0.2818  Loss =  1.9875601530075073 Epoch time =  14.822\n",
      "Epoch  28  : \n",
      " Val Acc =  0.2811  Loss =  1.8321218490600586 Epoch time =  14.44\n",
      "Epoch  29  : \n",
      " Val Acc =  0.2809  Loss =  2.090385913848877 Epoch time =  14.502\n"
     ]
    }
   ],
   "source": [
    "n_epochs = 30\n",
    "\n",
    "losses, val_acc, prof, grad_metrics = train(small_model, n_epochs, optimizer, scheduler, False, train_loader, test_loader)\n"
   ]
  },
  {
   "cell_type": "code",
   "execution_count": 131,
   "id": "75d80b5b-b956-4cc4-b699-9641dca99e66",
   "metadata": {},
   "outputs": [
    {
     "data": {
      "text/plain": [
       "0.2809"
      ]
     },
     "execution_count": 131,
     "metadata": {},
     "output_type": "execute_result"
    }
   ],
   "source": [
    "test(small_model, 1, test_loader)"
   ]
  },
  {
   "cell_type": "code",
   "execution_count": 151,
   "id": "965b0608-7182-4397-b1e2-64f56ea233c8",
   "metadata": {},
   "outputs": [],
   "source": [
    "n_epoch = 30\n",
    "n_runs = 3\n"
   ]
  },
  {
   "cell_type": "markdown",
   "id": "b319e8ef-7e7f-4b73-abbb-734f6cf83de5",
   "metadata": {},
   "source": [
    "### Training Large Model from scratch"
   ]
  },
  {
   "cell_type": "code",
   "execution_count": 157,
   "id": "989ffd4f-ee9b-4012-be85-1a9eb2d08e3b",
   "metadata": {},
   "outputs": [],
   "source": [
    "large_model = LinearModelLargeFunction(IMG_SHAPE**2, output_size=len(training_data.classes), batch_size=train_loader.batch_size)"
   ]
  },
  {
   "cell_type": "code",
   "execution_count": 158,
   "id": "d15d7f48-2e9d-49f0-a113-b92aa36bd1a0",
   "metadata": {},
   "outputs": [
    {
     "data": {
      "text/plain": [
       "LinearModelLargeFunction(\n",
       "  (linear1): Linear(in_features=256, out_features=512, bias=True)\n",
       "  (linear2): Linear(in_features=512, out_features=1024, bias=True)\n",
       "  (linear5): Linear(in_features=1024, out_features=10, bias=True)\n",
       ")"
      ]
     },
     "execution_count": 158,
     "metadata": {},
     "output_type": "execute_result"
    }
   ],
   "source": [
    "large_model"
   ]
  },
  {
   "cell_type": "code",
   "execution_count": 159,
   "id": "5d739ce3-b5fb-4d61-9371-e47ef67cd1af",
   "metadata": {},
   "outputs": [
    {
     "data": {
      "text/plain": [
       "0.1133"
      ]
     },
     "execution_count": 159,
     "metadata": {},
     "output_type": "execute_result"
    }
   ],
   "source": [
    "test(large_model, 1, test_loader)"
   ]
  },
  {
   "cell_type": "code",
   "execution_count": 160,
   "id": "ddcdf9c6-f722-46bb-9b64-245ebf693cc1",
   "metadata": {},
   "outputs": [],
   "source": [
    "loss_fn = torch.nn.CrossEntropyLoss()\n",
    "\n",
    "optimizer = torch.optim.Adam(large_model.parameters(), lr=0.01)\n",
    "\n",
    "scheduler = optim.lr_scheduler.StepLR(optimizer, step_size=10, gamma=0.1)"
   ]
  },
  {
   "cell_type": "code",
   "execution_count": 161,
   "id": "e3efcec0-cd57-4261-8cfe-cea482611f68",
   "metadata": {
    "scrolled": true
   },
   "outputs": [
    {
     "name": "stderr",
     "output_type": "stream",
     "text": [
      "/Users/amogh/miniforge3/envs/py312/lib/python3.12/site-packages/torch/autograd/profiler.py:263: UserWarning: CUDA is not available, disabling CUDA profiling\n",
      "  warn(\"CUDA is not available, disabling CUDA profiling\")\n"
     ]
    },
    {
     "name": "stdout",
     "output_type": "stream",
     "text": [
      "Epoch  0  : \n",
      " Val Acc =  0.2809  Loss =  2.0281240940093994 Epoch time =  12.247\n",
      "Epoch  1  : \n",
      " Val Acc =  0.2809  Loss =  2.0532426834106445 Epoch time =  11.878\n",
      "Epoch  2  : \n",
      " Val Acc =  0.2809  Loss =  1.9999761581420898 Epoch time =  11.934\n",
      "Epoch  3  : \n",
      " Val Acc =  0.2809  Loss =  2.106670379638672 Epoch time =  11.853\n",
      "Epoch  4  : \n",
      " Val Acc =  0.2809  Loss =  1.8206290006637573 Epoch time =  11.593\n",
      "Epoch  5  : \n",
      " Val Acc =  0.2809  Loss =  2.0081844329833984 Epoch time =  11.785\n",
      "Epoch  6  : \n",
      " Val Acc =  0.2809  Loss =  1.8825905323028564 Epoch time =  12.016\n",
      "Epoch  7  : \n",
      " Val Acc =  0.2809  Loss =  1.9019300937652588 Epoch time =  12.326\n",
      "Epoch  8  : \n",
      " Val Acc =  0.2809  Loss =  1.8371957540512085 Epoch time =  11.805\n",
      "Epoch  9  : \n",
      " Val Acc =  0.2809  Loss =  2.0220744609832764 Epoch time =  11.721\n",
      "Epoch  10  : \n",
      " Val Acc =  0.2809  Loss =  2.002699851989746 Epoch time =  11.941\n",
      "Epoch  11  : \n",
      " Val Acc =  0.2809  Loss =  2.0932116508483887 Epoch time =  11.899\n",
      "Epoch  12  : \n",
      " Val Acc =  0.2809  Loss =  2.1000213623046875 Epoch time =  11.761\n",
      "Epoch  13  : \n",
      " Val Acc =  0.2809  Loss =  1.8545706272125244 Epoch time =  11.734\n",
      "Epoch  14  : \n",
      " Val Acc =  0.2809  Loss =  2.0814690589904785 Epoch time =  11.779\n",
      "Epoch  15  : \n",
      " Val Acc =  0.2809  Loss =  1.8157589435577393 Epoch time =  11.792\n",
      "Epoch  16  : \n",
      " Val Acc =  0.2809  Loss =  2.10652232170105 Epoch time =  11.664\n",
      "Epoch  17  : \n",
      " Val Acc =  0.2809  Loss =  2.0728046894073486 Epoch time =  11.689\n",
      "Epoch  18  : \n",
      " Val Acc =  0.2809  Loss =  1.7314043045043945 Epoch time =  11.929\n",
      "Epoch  19  : \n",
      " Val Acc =  0.2809  Loss =  1.966631293296814 Epoch time =  12.013\n",
      "Epoch  20  : \n",
      " Val Acc =  0.2809  Loss =  2.066497325897217 Epoch time =  12.07\n",
      "Epoch  21  : \n",
      " Val Acc =  0.2809  Loss =  1.9492480754852295 Epoch time =  12.859\n",
      "Epoch  22  : \n",
      " Val Acc =  0.2809  Loss =  1.8587079048156738 Epoch time =  12.355\n",
      "Epoch  23  : \n",
      " Val Acc =  0.2809  Loss =  1.9257917404174805 Epoch time =  12.881\n",
      "Epoch  24  : \n",
      " Val Acc =  0.2809  Loss =  1.8341565132141113 Epoch time =  11.957\n",
      "Epoch  25  : \n",
      " Val Acc =  0.2809  Loss =  1.932788610458374 Epoch time =  11.908\n",
      "Epoch  26  : \n",
      " Val Acc =  0.2809  Loss =  2.1074936389923096 Epoch time =  12.301\n",
      "Epoch  27  : \n",
      " Val Acc =  0.2809  Loss =  1.790114402770996 Epoch time =  12.047\n",
      "Epoch  28  : \n",
      " Val Acc =  0.2809  Loss =  1.911333680152893 Epoch time =  12.333\n",
      "Epoch  29  : \n",
      " Val Acc =  0.2809  Loss =  1.7732681035995483 Epoch time =  12.422\n",
      "Epoch  0  : \n",
      " Val Acc =  0.2809  Loss =  1.9561480283737183 Epoch time =  12.329\n",
      "Epoch  1  : \n",
      " Val Acc =  0.2809  Loss =  1.9722836017608643 Epoch time =  12.619\n",
      "Epoch  2  : \n",
      " Val Acc =  0.2809  Loss =  2.119389057159424 Epoch time =  12.194\n",
      "Epoch  3  : \n",
      " Val Acc =  0.2809  Loss =  1.8660521507263184 Epoch time =  11.99\n",
      "Epoch  4  : \n",
      " Val Acc =  0.2809  Loss =  1.8530709743499756 Epoch time =  12.067\n",
      "Epoch  5  : \n",
      " Val Acc =  0.2809  Loss =  2.054582118988037 Epoch time =  12.27\n",
      "Epoch  6  : \n",
      " Val Acc =  0.2809  Loss =  1.8131884336471558 Epoch time =  12.492\n",
      "Epoch  7  : \n",
      " Val Acc =  0.2809  Loss =  1.8060017824172974 Epoch time =  11.944\n",
      "Epoch  8  : \n",
      " Val Acc =  0.2809  Loss =  1.9203369617462158 Epoch time =  11.773\n",
      "Epoch  9  : \n",
      " Val Acc =  0.2809  Loss =  2.0075924396514893 Epoch time =  11.657\n",
      "Epoch  10  : \n",
      " Val Acc =  0.2809  Loss =  2.119548797607422 Epoch time =  11.672\n",
      "Epoch  11  : \n",
      " Val Acc =  0.2809  Loss =  1.9757120609283447 Epoch time =  11.67\n",
      "Epoch  12  : \n",
      " Val Acc =  0.2809  Loss =  2.1826202869415283 Epoch time =  11.718\n",
      "Epoch  13  : \n",
      " Val Acc =  0.2809  Loss =  1.9567291736602783 Epoch time =  11.913\n",
      "Epoch  14  : \n",
      " Val Acc =  0.2809  Loss =  1.9454388618469238 Epoch time =  12.107\n",
      "Epoch  15  : \n",
      " Val Acc =  0.2809  Loss =  2.1036887168884277 Epoch time =  12.247\n",
      "Epoch  16  : \n",
      " Val Acc =  0.2809  Loss =  2.0017402172088623 Epoch time =  12.181\n",
      "Epoch  17  : \n",
      " Val Acc =  0.2809  Loss =  2.067572593688965 Epoch time =  12.738\n",
      "Epoch  18  : \n",
      " Val Acc =  0.2809  Loss =  2.011363983154297 Epoch time =  12.584\n",
      "Epoch  19  : \n",
      " Val Acc =  0.2809  Loss =  2.05543851852417 Epoch time =  13.302\n",
      "Epoch  20  : \n",
      " Val Acc =  0.2809  Loss =  2.2446060180664062 Epoch time =  14.123\n",
      "Epoch  21  : \n",
      " Val Acc =  0.2809  Loss =  1.9657765626907349 Epoch time =  12.31\n",
      "Epoch  22  : \n",
      " Val Acc =  0.2809  Loss =  1.8238115310668945 Epoch time =  12.071\n",
      "Epoch  23  : \n",
      " Val Acc =  0.2809  Loss =  2.084911823272705 Epoch time =  12.92\n",
      "Epoch  24  : \n",
      " Val Acc =  0.2809  Loss =  1.8560171127319336 Epoch time =  13.299\n",
      "Epoch  25  : \n",
      " Val Acc =  0.2809  Loss =  1.9907294511795044 Epoch time =  13.061\n",
      "Epoch  26  : \n",
      " Val Acc =  0.2809  Loss =  1.9225103855133057 Epoch time =  12.558\n",
      "Epoch  27  : \n",
      " Val Acc =  0.2809  Loss =  2.1979713439941406 Epoch time =  12.256\n",
      "Epoch  28  : \n",
      " Val Acc =  0.2809  Loss =  2.005035400390625 Epoch time =  13.005\n",
      "Epoch  29  : \n",
      " Val Acc =  0.2809  Loss =  1.8067090511322021 Epoch time =  13.224\n",
      "Epoch  0  : \n",
      " Val Acc =  0.2809  Loss =  1.7893317937850952 Epoch time =  12.321\n",
      "Epoch  1  : \n",
      " Val Acc =  0.2809  Loss =  1.8887219429016113 Epoch time =  12.174\n",
      "Epoch  2  : \n",
      " Val Acc =  0.2809  Loss =  1.9407365322113037 Epoch time =  11.949\n",
      "Epoch  3  : \n",
      " Val Acc =  0.2809  Loss =  1.9844647645950317 Epoch time =  11.8\n",
      "Epoch  4  : \n",
      " Val Acc =  0.2809  Loss =  1.9953510761260986 Epoch time =  12.013\n",
      "Epoch  5  : \n",
      " Val Acc =  0.2809  Loss =  1.8295226097106934 Epoch time =  13.003\n",
      "Epoch  6  : \n",
      " Val Acc =  0.2809  Loss =  2.0179243087768555 Epoch time =  12.47\n",
      "Epoch  7  : \n",
      " Val Acc =  0.2809  Loss =  1.8403737545013428 Epoch time =  12.158\n",
      "Epoch  8  : \n",
      " Val Acc =  0.2809  Loss =  1.9968280792236328 Epoch time =  11.716\n",
      "Epoch  9  : \n",
      " Val Acc =  0.2809  Loss =  2.0043346881866455 Epoch time =  11.789\n",
      "Epoch  10  : \n",
      " Val Acc =  0.2809  Loss =  1.9349391460418701 Epoch time =  11.644\n",
      "Epoch  11  : \n",
      " Val Acc =  0.2809  Loss =  2.0938315391540527 Epoch time =  11.974\n",
      "Epoch  12  : \n",
      " Val Acc =  0.2809  Loss =  1.9580316543579102 Epoch time =  12.025\n",
      "Epoch  13  : \n",
      " Val Acc =  0.2809  Loss =  1.8931416273117065 Epoch time =  12.041\n",
      "Epoch  14  : \n",
      " Val Acc =  0.2809  Loss =  1.8300310373306274 Epoch time =  11.677\n",
      "Epoch  15  : \n",
      " Val Acc =  0.2809  Loss =  1.7685941457748413 Epoch time =  13.195\n",
      "Epoch  16  : \n",
      " Val Acc =  0.2809  Loss =  1.9656968116760254 Epoch time =  12.184\n",
      "Epoch  17  : \n",
      " Val Acc =  0.2809  Loss =  1.9663047790527344 Epoch time =  12.524\n",
      "Epoch  18  : \n",
      " Val Acc =  0.2809  Loss =  2.0402278900146484 Epoch time =  13.337\n",
      "Epoch  19  : \n",
      " Val Acc =  0.2809  Loss =  1.8618855476379395 Epoch time =  13.807\n",
      "Epoch  20  : \n",
      " Val Acc =  0.2809  Loss =  1.8351118564605713 Epoch time =  13.81\n",
      "Epoch  21  : \n",
      " Val Acc =  0.2809  Loss =  1.9705721139907837 Epoch time =  13.33\n",
      "Epoch  22  : \n",
      " Val Acc =  0.2809  Loss =  1.8247082233428955 Epoch time =  12.803\n",
      "Epoch  23  : \n",
      " Val Acc =  0.2809  Loss =  1.8234872817993164 Epoch time =  12.429\n",
      "Epoch  24  : \n",
      " Val Acc =  0.2809  Loss =  1.8108478784561157 Epoch time =  13.023\n",
      "Epoch  25  : \n",
      " Val Acc =  0.2809  Loss =  1.6538915634155273 Epoch time =  14.102\n",
      "Epoch  26  : \n",
      " Val Acc =  0.2809  Loss =  2.085500717163086 Epoch time =  15.098\n",
      "Epoch  27  : \n",
      " Val Acc =  0.2809  Loss =  2.0982089042663574 Epoch time =  13.958\n",
      "Epoch  28  : \n",
      " Val Acc =  0.2809  Loss =  1.976902723312378 Epoch time =  13.377\n",
      "Epoch  29  : \n",
      " Val Acc =  0.2809  Loss =  1.8410255908966064 Epoch time =  13.65\n"
     ]
    }
   ],
   "source": [
    "comp_losses_ref = []\n",
    "comp_val_acc_ref = []\n",
    "for i in range(n_runs):\n",
    "    losses_, val_acc_, prof_, grad_metrics_ = train(small_model, n_epochs, optimizer, scheduler, False, train_loader, test_loader)\n",
    "    comp_losses_ref.append(losses_)\n",
    "    comp_val_acc_ref.append(val_acc_)"
   ]
  },
  {
   "cell_type": "markdown",
   "id": "2b623d3d-a600-4086-b193-ccb187149299",
   "metadata": {},
   "source": [
    "### Training model using reverse KD - Setting ratio of teacher model logits to labels loss to 1:1"
   ]
  },
  {
   "cell_type": "code",
   "execution_count": 162,
   "id": "8f32f872-13b3-4e79-849a-5e26ea09189e",
   "metadata": {},
   "outputs": [],
   "source": [
    "large_model = LinearModelLargeFunction(IMG_SHAPE**2, output_size=len(training_data.classes), batch_size=train_loader.batch_size)"
   ]
  },
  {
   "cell_type": "code",
   "execution_count": 163,
   "id": "d7b10007-392d-4b9a-af82-67d0abd8471d",
   "metadata": {},
   "outputs": [
    {
     "data": {
      "text/plain": [
       "0.1005"
      ]
     },
     "execution_count": 163,
     "metadata": {},
     "output_type": "execute_result"
    }
   ],
   "source": [
    "test(large_model, 1, test_loader)"
   ]
  },
  {
   "cell_type": "code",
   "execution_count": 164,
   "id": "8297e886-99a2-4403-96d2-d42e62eda2c4",
   "metadata": {},
   "outputs": [],
   "source": [
    "loss_fn = torch.nn.CrossEntropyLoss()\n",
    "\n",
    "optimizer = torch.optim.Adam(large_model.parameters(), lr=0.01)\n",
    "\n",
    "scheduler = optim.lr_scheduler.StepLR(optimizer, step_size=10, gamma=0.1)"
   ]
  },
  {
   "cell_type": "code",
   "execution_count": 165,
   "id": "ee0591f4-332c-4d2e-b047-f0fc99dd6a27",
   "metadata": {
    "scrolled": true
   },
   "outputs": [
    {
     "name": "stdout",
     "output_type": "stream",
     "text": [
      "Epoch 1/30, Loss: 2.1237093288828257\n",
      "Epoch 2/30, Loss: 2.022962224162953\n",
      "Epoch 3/30, Loss: 2.011781079134166\n",
      "Epoch 4/30, Loss: 2.0062637854935113\n",
      "Epoch 5/30, Loss: 2.002461404028073\n",
      "Epoch 6/30, Loss: 2.000492476165371\n",
      "Epoch 7/30, Loss: 1.9957831682835285\n",
      "Epoch 8/30, Loss: 1.9984666857005082\n",
      "Epoch 9/30, Loss: 1.9963263998263625\n",
      "Epoch 10/30, Loss: 1.994487631336217\n",
      "Epoch 11/30, Loss: 1.9514000196768289\n",
      "Epoch 12/30, Loss: 1.9489148151554005\n",
      "Epoch 13/30, Loss: 1.9481482631723646\n",
      "Epoch 14/30, Loss: 1.9474936956480127\n",
      "Epoch 15/30, Loss: 1.947212141469865\n",
      "Epoch 16/30, Loss: 1.9468771490946928\n",
      "Epoch 17/30, Loss: 1.9466759020631963\n",
      "Epoch 18/30, Loss: 1.9462475394317345\n",
      "Epoch 19/30, Loss: 1.9453146743865997\n",
      "Epoch 20/30, Loss: 1.9455717978343157\n",
      "Epoch 21/30, Loss: 1.940294004814573\n",
      "Epoch 22/30, Loss: 1.9397394579290275\n",
      "Epoch 23/30, Loss: 1.9396445200934758\n",
      "Epoch 24/30, Loss: 1.9394973292088233\n",
      "Epoch 25/30, Loss: 1.9394570043389225\n",
      "Epoch 26/30, Loss: 1.9392911447605616\n",
      "Epoch 27/30, Loss: 1.9393344524575256\n",
      "Epoch 28/30, Loss: 1.939409793186432\n",
      "Epoch 29/30, Loss: 1.9392772400119698\n",
      "Epoch 30/30, Loss: 1.9392985598531178\n",
      "Epoch 1/30, Loss: 1.9944810570431122\n",
      "Epoch 2/30, Loss: 1.9950387203891817\n",
      "Epoch 3/30, Loss: 1.993742581213635\n",
      "Epoch 4/30, Loss: 1.9936702242276123\n",
      "Epoch 5/30, Loss: 1.9961373557965063\n",
      "Epoch 6/30, Loss: 1.995348992558356\n",
      "Epoch 7/30, Loss: 1.9939948692059242\n",
      "Epoch 8/30, Loss: 1.9944813446870382\n",
      "Epoch 9/30, Loss: 1.993485259109209\n",
      "Epoch 10/30, Loss: 1.9943363162070016\n",
      "Epoch 11/30, Loss: 1.951030103940512\n",
      "Epoch 12/30, Loss: 1.9477646342465575\n",
      "Epoch 13/30, Loss: 1.9469614854695396\n",
      "Epoch 14/30, Loss: 1.9465303041718223\n",
      "Epoch 15/30, Loss: 1.9460919359734665\n",
      "Epoch 16/30, Loss: 1.9462682688739938\n",
      "Epoch 17/30, Loss: 1.9462585360689444\n",
      "Epoch 18/30, Loss: 1.9458232338846722\n",
      "Epoch 19/30, Loss: 1.9459276891548412\n",
      "Epoch 20/30, Loss: 1.9452819470101526\n",
      "Epoch 21/30, Loss: 1.941671481205773\n",
      "Epoch 22/30, Loss: 1.9407964425111397\n",
      "Epoch 23/30, Loss: 1.9407075822124409\n",
      "Epoch 24/30, Loss: 1.940768642935344\n",
      "Epoch 25/30, Loss: 1.9406608514077532\n",
      "Epoch 26/30, Loss: 1.9405779311965279\n",
      "Epoch 27/30, Loss: 1.9406896060315961\n",
      "Epoch 28/30, Loss: 1.9406261158661104\n",
      "Epoch 29/30, Loss: 1.9406343836637832\n",
      "Epoch 30/30, Loss: 1.940694541921994\n",
      "Epoch 1/30, Loss: 1.9944529946268597\n",
      "Epoch 2/30, Loss: 1.9903346100934183\n",
      "Epoch 3/30, Loss: 1.9964511644824976\n",
      "Epoch 4/30, Loss: 1.9943415112745746\n",
      "Epoch 5/30, Loss: 1.991781922064426\n",
      "Epoch 6/30, Loss: 1.9917847592760445\n",
      "Epoch 7/30, Loss: 1.9909079071806886\n",
      "Epoch 8/30, Loss: 1.9940479555752764\n",
      "Epoch 9/30, Loss: 1.993260258901745\n",
      "Epoch 10/30, Loss: 1.9906087698612873\n",
      "Epoch 11/30, Loss: 1.9494757659914552\n",
      "Epoch 12/30, Loss: 1.9465364501662505\n",
      "Epoch 13/30, Loss: 1.9460127581860132\n",
      "Epoch 14/30, Loss: 1.9462029111980628\n",
      "Epoch 15/30, Loss: 1.9454042893976315\n",
      "Epoch 16/30, Loss: 1.945438020513244\n",
      "Epoch 17/30, Loss: 1.9454418839016279\n",
      "Epoch 18/30, Loss: 1.9452380934842264\n",
      "Epoch 19/30, Loss: 1.945439947857289\n",
      "Epoch 20/30, Loss: 1.9452762760975602\n",
      "Epoch 21/30, Loss: 1.9409862671252556\n",
      "Epoch 22/30, Loss: 1.9405160529512755\n",
      "Epoch 23/30, Loss: 1.9405186192326906\n",
      "Epoch 24/30, Loss: 1.9403395284153282\n",
      "Epoch 25/30, Loss: 1.940303866445026\n",
      "Epoch 26/30, Loss: 1.9403963697246644\n",
      "Epoch 27/30, Loss: 1.940173119268405\n",
      "Epoch 28/30, Loss: 1.9402663799315194\n",
      "Epoch 29/30, Loss: 1.9402867267134858\n",
      "Epoch 30/30, Loss: 1.9403243715876044\n"
     ]
    }
   ],
   "source": [
    "n_epoch = 30\n",
    "comp_losses_1 = []\n",
    "comp_val_acc_1 = []\n",
    "for i in range(n_runs):\n",
    "    losses_, val_acc_ = expand_training(small_model, large_model, train_loader, test_loader, n_epoch, 1,1)\n",
    "    comp_losses_1.append(losses_)\n",
    "    comp_val_acc_1.append(val_acc_)"
   ]
  },
  {
   "cell_type": "markdown",
   "id": "08b385fa-bb10-4bc0-8773-88f0d54ef5d5",
   "metadata": {},
   "source": [
    "### Setting ratio of teacher model logits to labels loss to 1:3"
   ]
  },
  {
   "cell_type": "code",
   "execution_count": 169,
   "id": "080ae7eb-9143-4b0b-ba5e-67bc1890188f",
   "metadata": {},
   "outputs": [],
   "source": [
    "large_model = LinearModelLargeFunction(IMG_SHAPE**2, output_size=len(training_data.classes), batch_size=train_loader.batch_size)"
   ]
  },
  {
   "cell_type": "code",
   "execution_count": 170,
   "id": "270767a9-2db7-409c-b092-88948118c7bc",
   "metadata": {},
   "outputs": [
    {
     "data": {
      "text/plain": [
       "0.1038"
      ]
     },
     "execution_count": 170,
     "metadata": {},
     "output_type": "execute_result"
    }
   ],
   "source": [
    "test(large_model, 1, test_loader)"
   ]
  },
  {
   "cell_type": "code",
   "execution_count": 171,
   "id": "7e573398-e28c-4e0b-be5b-47444168670e",
   "metadata": {},
   "outputs": [],
   "source": [
    "loss_fn = torch.nn.CrossEntropyLoss()\n",
    "\n",
    "optimizer = torch.optim.Adam(large_model.parameters(), lr=0.01)\n",
    "\n",
    "scheduler = optim.lr_scheduler.StepLR(optimizer, step_size=10, gamma=0.1)"
   ]
  },
  {
   "cell_type": "code",
   "execution_count": 172,
   "id": "6a3f7cd1-e3c1-4e55-854c-a2f5fcdcc2ff",
   "metadata": {
    "scrolled": true
   },
   "outputs": [
    {
     "name": "stdout",
     "output_type": "stream",
     "text": [
      "Epoch 1/30, Loss: 6.27663142702491\n",
      "Epoch 2/30, Loss: 6.055042183200773\n",
      "Epoch 3/30, Loss: 6.036285403138086\n",
      "Epoch 4/30, Loss: 6.009207703850486\n",
      "Epoch 5/30, Loss: 6.006890457815153\n",
      "Epoch 6/30, Loss: 6.003032486508964\n",
      "Epoch 7/30, Loss: 5.99251510513882\n",
      "Epoch 8/30, Loss: 5.999350036762741\n",
      "Epoch 9/30, Loss: 6.006356966785524\n",
      "Epoch 10/30, Loss: 5.992356027744797\n",
      "Epoch 11/30, Loss: 5.855774469473298\n",
      "Epoch 12/30, Loss: 5.841720918381871\n",
      "Epoch 13/30, Loss: 5.838488572385644\n",
      "Epoch 14/30, Loss: 5.832696048306747\n",
      "Epoch 15/30, Loss: 5.828788934993377\n",
      "Epoch 16/30, Loss: 5.830669834427583\n",
      "Epoch 17/30, Loss: 5.827192913096937\n",
      "Epoch 18/30, Loss: 5.826351674662357\n",
      "Epoch 19/30, Loss: 5.824934971927833\n",
      "Epoch 20/30, Loss: 5.821974882853627\n",
      "Epoch 21/30, Loss: 5.806667756790083\n",
      "Epoch 22/30, Loss: 5.804110488574117\n",
      "Epoch 23/30, Loss: 5.803998828392175\n",
      "Epoch 24/30, Loss: 5.803902607415916\n",
      "Epoch 25/30, Loss: 5.803477183194228\n",
      "Epoch 26/30, Loss: 5.803740683957343\n",
      "Epoch 27/30, Loss: 5.802945882196463\n",
      "Epoch 28/30, Loss: 5.802903418351685\n",
      "Epoch 29/30, Loss: 5.803508319256401\n",
      "Epoch 30/30, Loss: 5.803303883719841\n",
      "Epoch 1/30, Loss: 5.986454913619233\n",
      "Epoch 2/30, Loss: 5.98943232055205\n",
      "Epoch 3/30, Loss: 5.9899937978322\n",
      "Epoch 4/30, Loss: 5.986407596231575\n",
      "Epoch 5/30, Loss: 5.986062760237084\n",
      "Epoch 6/30, Loss: 5.982068172337609\n",
      "Epoch 7/30, Loss: 5.98684273425504\n",
      "Epoch 8/30, Loss: 6.002118967559365\n",
      "Epoch 9/30, Loss: 5.991930658777606\n",
      "Epoch 10/30, Loss: 5.990934107581419\n",
      "Epoch 11/30, Loss: 5.85309787657441\n",
      "Epoch 12/30, Loss: 5.836500932556719\n",
      "Epoch 13/30, Loss: 5.831601459146614\n",
      "Epoch 14/30, Loss: 5.830155153433278\n",
      "Epoch 15/30, Loss: 5.830059510339695\n",
      "Epoch 16/30, Loss: 5.8274273212984795\n",
      "Epoch 17/30, Loss: 5.827064242466769\n",
      "Epoch 18/30, Loss: 5.827479244346961\n",
      "Epoch 19/30, Loss: 5.824780218427221\n",
      "Epoch 20/30, Loss: 5.823825715293347\n",
      "Epoch 21/30, Loss: 5.809951319737257\n",
      "Epoch 22/30, Loss: 5.807863193651167\n",
      "Epoch 23/30, Loss: 5.807356400618022\n",
      "Epoch 24/30, Loss: 5.8070750181562\n",
      "Epoch 25/30, Loss: 5.80688242204058\n",
      "Epoch 26/30, Loss: 5.806511500122911\n",
      "Epoch 27/30, Loss: 5.8069258603182705\n",
      "Epoch 28/30, Loss: 5.80675402493544\n",
      "Epoch 29/30, Loss: 5.806455002856773\n",
      "Epoch 30/30, Loss: 5.807237546666789\n",
      "Epoch 1/30, Loss: 5.971169713822583\n",
      "Epoch 2/30, Loss: 5.989050006439072\n",
      "Epoch 3/30, Loss: 5.979493753247621\n",
      "Epoch 4/30, Loss: 5.983364817427612\n",
      "Epoch 5/30, Loss: 5.9790930082489675\n",
      "Epoch 6/30, Loss: 5.984457650960026\n",
      "Epoch 7/30, Loss: 5.986683194676984\n",
      "Epoch 8/30, Loss: 5.985737343603762\n",
      "Epoch 9/30, Loss: 5.994759896347984\n",
      "Epoch 10/30, Loss: 5.978811037830446\n",
      "Epoch 11/30, Loss: 5.8570878343911845\n",
      "Epoch 12/30, Loss: 5.838811205535478\n",
      "Epoch 13/30, Loss: 5.8333003640022225\n",
      "Epoch 14/30, Loss: 5.83017023791119\n",
      "Epoch 15/30, Loss: 5.826793848323455\n",
      "Epoch 16/30, Loss: 5.828057920734342\n",
      "Epoch 17/30, Loss: 5.826125572036079\n",
      "Epoch 18/30, Loss: 5.825668987635614\n",
      "Epoch 19/30, Loss: 5.82325309064721\n",
      "Epoch 20/30, Loss: 5.824748038940332\n",
      "Epoch 21/30, Loss: 5.807510432452154\n",
      "Epoch 22/30, Loss: 5.805614392369718\n",
      "Epoch 23/30, Loss: 5.805873814374018\n",
      "Epoch 24/30, Loss: 5.805098086099466\n",
      "Epoch 25/30, Loss: 5.805246455721299\n",
      "Epoch 26/30, Loss: 5.805141418141989\n",
      "Epoch 27/30, Loss: 5.805099206147823\n",
      "Epoch 28/30, Loss: 5.805152979764071\n",
      "Epoch 29/30, Loss: 5.80496193596404\n",
      "Epoch 30/30, Loss: 5.804891327737083\n"
     ]
    }
   ],
   "source": [
    "n_epoch = 30\n",
    "comp_losses_2 = []\n",
    "comp_val_acc_2 = []\n",
    "for i in range(n_runs):\n",
    "    losses_, val_acc_ = expand_training(small_model, large_model, train_loader, test_loader, n_epoch, 1,3)\n",
    "    comp_losses_2.append(losses_)\n",
    "    comp_val_acc_2.append(val_acc_)"
   ]
  },
  {
   "cell_type": "code",
   "execution_count": 173,
   "id": "5f146adc-e7d5-4190-a062-8a2a9f5f1860",
   "metadata": {},
   "outputs": [
    {
     "data": {
      "text/plain": [
       "0.2845"
      ]
     },
     "execution_count": 173,
     "metadata": {},
     "output_type": "execute_result"
    }
   ],
   "source": [
    "test(large_model,1,test_loader)"
   ]
  },
  {
   "cell_type": "markdown",
   "id": "e4a1aa37-4870-4acd-8ea4-bbbb4af8fb43",
   "metadata": {},
   "source": [
    "### Setting ratio of teacher model logits to labels loss to 3:1"
   ]
  },
  {
   "cell_type": "code",
   "execution_count": 174,
   "id": "dcf6410e-c652-46d8-aae2-7d60b9c0667c",
   "metadata": {},
   "outputs": [],
   "source": [
    "large_model = LinearModelLargeFunction(IMG_SHAPE**2, output_size=len(training_data.classes), batch_size=train_loader.batch_size)"
   ]
  },
  {
   "cell_type": "code",
   "execution_count": 175,
   "id": "d4545e05-ea37-4d24-bbe4-61f51ad2bce3",
   "metadata": {},
   "outputs": [
    {
     "data": {
      "text/plain": [
       "0.1"
      ]
     },
     "execution_count": 175,
     "metadata": {},
     "output_type": "execute_result"
    }
   ],
   "source": [
    "test(large_model, 1, test_loader)"
   ]
  },
  {
   "cell_type": "code",
   "execution_count": 176,
   "id": "9513df0e-c2ab-4038-bff9-5bb6834df231",
   "metadata": {},
   "outputs": [],
   "source": [
    "loss_fn = torch.nn.CrossEntropyLoss()\n",
    "\n",
    "optimizer = torch.optim.Adam(large_model.parameters(), lr=0.01)\n",
    "\n",
    "scheduler = optim.lr_scheduler.StepLR(optimizer, step_size=10, gamma=0.1)"
   ]
  },
  {
   "cell_type": "code",
   "execution_count": 177,
   "id": "247000c4-63d9-494d-a671-22d6da2e33ac",
   "metadata": {
    "scrolled": true
   },
   "outputs": [
    {
     "name": "stdout",
     "output_type": "stream",
     "text": [
      "Epoch 1/30, Loss: 2.235359349415641\n",
      "Epoch 2/30, Loss: 2.0247110074216668\n",
      "Epoch 3/30, Loss: 2.0095891407601507\n",
      "Epoch 4/30, Loss: 2.0001255392875623\n",
      "Epoch 5/30, Loss: 1.9994947539401573\n",
      "Epoch 6/30, Loss: 1.997591317386847\n",
      "Epoch 7/30, Loss: 1.9936111844913909\n",
      "Epoch 8/30, Loss: 1.9943755829227414\n",
      "Epoch 9/30, Loss: 1.9938957996466096\n",
      "Epoch 10/30, Loss: 1.9943748419477143\n",
      "Epoch 11/30, Loss: 1.949576307121526\n",
      "Epoch 12/30, Loss: 1.948090094076076\n",
      "Epoch 13/30, Loss: 1.947985102135149\n",
      "Epoch 14/30, Loss: 1.948065397986682\n",
      "Epoch 15/30, Loss: 1.9478159117179705\n",
      "Epoch 16/30, Loss: 1.948219867735605\n",
      "Epoch 17/30, Loss: 1.947873215745567\n",
      "Epoch 18/30, Loss: 1.947619171972922\n",
      "Epoch 19/30, Loss: 1.9479332115982926\n",
      "Epoch 20/30, Loss: 1.9478120855729497\n",
      "Epoch 21/30, Loss: 1.9431358985650555\n",
      "Epoch 22/30, Loss: 1.9425800333560352\n",
      "Epoch 23/30, Loss: 1.9425237088746816\n",
      "Epoch 24/30, Loss: 1.9426871974703293\n",
      "Epoch 25/30, Loss: 1.9425789847416701\n",
      "Epoch 26/30, Loss: 1.9426293033491175\n",
      "Epoch 27/30, Loss: 1.9426007257838867\n",
      "Epoch 28/30, Loss: 1.9425479137790647\n",
      "Epoch 29/30, Loss: 1.9424927549844515\n",
      "Epoch 30/30, Loss: 1.9425432589692129\n",
      "Epoch 1/30, Loss: 1.991782159872458\n",
      "Epoch 2/30, Loss: 1.9925649238609626\n",
      "Epoch 3/30, Loss: 1.989758050243314\n",
      "Epoch 4/30, Loss: 1.9904277860431452\n",
      "Epoch 5/30, Loss: 1.9910402653617223\n",
      "Epoch 6/30, Loss: 1.9923359544115395\n",
      "Epoch 7/30, Loss: 1.9890000363012892\n",
      "Epoch 8/30, Loss: 1.9875908544365788\n",
      "Epoch 9/30, Loss: 1.9905017934138582\n",
      "Epoch 10/30, Loss: 1.9884569136647654\n",
      "Epoch 11/30, Loss: 1.948127352473983\n",
      "Epoch 12/30, Loss: 1.947187361811859\n",
      "Epoch 13/30, Loss: 1.9472910918285844\n",
      "Epoch 14/30, Loss: 1.9469811381359565\n",
      "Epoch 15/30, Loss: 1.9469766154331984\n",
      "Epoch 16/30, Loss: 1.9471590995178027\n",
      "Epoch 17/30, Loss: 1.946930114117841\n",
      "Epoch 18/30, Loss: 1.9471263760335924\n",
      "Epoch 19/30, Loss: 1.9470331293367393\n",
      "Epoch 20/30, Loss: 1.9469254466391404\n",
      "Epoch 21/30, Loss: 1.9426043734965648\n",
      "Epoch 22/30, Loss: 1.9421906941373583\n",
      "Epoch 23/30, Loss: 1.942213198821157\n",
      "Epoch 24/30, Loss: 1.9419603593523462\n",
      "Epoch 25/30, Loss: 1.9420569653547681\n",
      "Epoch 26/30, Loss: 1.9419877478774166\n",
      "Epoch 27/30, Loss: 1.9420693915113139\n",
      "Epoch 28/30, Loss: 1.9420115395941593\n",
      "Epoch 29/30, Loss: 1.9420272622462578\n",
      "Epoch 30/30, Loss: 1.942131914646769\n",
      "Epoch 1/30, Loss: 1.989868072404141\n",
      "Epoch 2/30, Loss: 1.9886273879858352\n",
      "Epoch 3/30, Loss: 1.988772216206476\n",
      "Epoch 4/30, Loss: 1.9904439853797649\n",
      "Epoch 5/30, Loss: 1.9882977653709784\n",
      "Epoch 6/30, Loss: 1.988180550432999\n",
      "Epoch 7/30, Loss: 1.9904087784958862\n",
      "Epoch 8/30, Loss: 1.991271065841411\n",
      "Epoch 9/30, Loss: 1.9879273766134216\n",
      "Epoch 10/30, Loss: 1.988918684508828\n",
      "Epoch 11/30, Loss: 1.9479456389759322\n",
      "Epoch 12/30, Loss: 1.9466450392207781\n",
      "Epoch 13/30, Loss: 1.9466640033428861\n",
      "Epoch 14/30, Loss: 1.946535473596424\n",
      "Epoch 15/30, Loss: 1.946798567353687\n",
      "Epoch 16/30, Loss: 1.9467756652801504\n",
      "Epoch 17/30, Loss: 1.9467475820289837\n",
      "Epoch 18/30, Loss: 1.9468798728972176\n",
      "Epoch 19/30, Loss: 1.9469971587349602\n",
      "Epoch 20/30, Loss: 1.9467144260485865\n",
      "Epoch 21/30, Loss: 1.9424231035608641\n",
      "Epoch 22/30, Loss: 1.9420018709728568\n",
      "Epoch 23/30, Loss: 1.9418222853072016\n",
      "Epoch 24/30, Loss: 1.9418714049531005\n",
      "Epoch 25/30, Loss: 1.9419451409357\n",
      "Epoch 26/30, Loss: 1.9419736240951109\n",
      "Epoch 27/30, Loss: 1.941859352527599\n",
      "Epoch 28/30, Loss: 1.9418833325217537\n",
      "Epoch 29/30, Loss: 1.941892351368478\n",
      "Epoch 30/30, Loss: 1.9419366731839052\n"
     ]
    }
   ],
   "source": [
    "n_epoch = 30\n",
    "comp_losses_3 = []\n",
    "comp_val_acc_3 = []\n",
    "for i in range(n_runs):\n",
    "    losses_, val_acc_ = expand_training(small_model, large_model, train_loader, test_loader, n_epoch, 3,1)\n",
    "    comp_losses_3.append(losses_)\n",
    "    comp_val_acc_3.append(val_acc_)"
   ]
  },
  {
   "cell_type": "code",
   "execution_count": 178,
   "id": "cb3c9dd3-b5df-4c32-a7fc-26a8c7bab2f9",
   "metadata": {},
   "outputs": [
    {
     "data": {
      "text/plain": [
       "0.2831"
      ]
     },
     "execution_count": 178,
     "metadata": {},
     "output_type": "execute_result"
    }
   ],
   "source": [
    "test(large_model,1,test_loader)"
   ]
  },
  {
   "cell_type": "markdown",
   "id": "3a5e7ba3-dcbd-4159-9ef5-25d00b3b2233",
   "metadata": {
    "jp-MarkdownHeadingCollapsed": true
   },
   "source": [
    "### Setting ratio of teacher model logits to labels loss to 1:5"
   ]
  },
  {
   "cell_type": "code",
   "execution_count": 179,
   "id": "72e62af5-950b-4452-a53e-6651f6a8268d",
   "metadata": {},
   "outputs": [],
   "source": [
    "large_model = LinearModelLargeFunction(IMG_SHAPE**2, output_size=len(training_data.classes), batch_size=train_loader.batch_size)"
   ]
  },
  {
   "cell_type": "code",
   "execution_count": 180,
   "id": "f5a06594-06da-42d0-9410-be01528d83d0",
   "metadata": {},
   "outputs": [
    {
     "data": {
      "text/plain": [
       "0.0904"
      ]
     },
     "execution_count": 180,
     "metadata": {},
     "output_type": "execute_result"
    }
   ],
   "source": [
    "test(large_model, 1, test_loader)"
   ]
  },
  {
   "cell_type": "code",
   "execution_count": 181,
   "id": "cb564798-8535-4a58-8561-2a8d9db675bc",
   "metadata": {},
   "outputs": [],
   "source": [
    "loss_fn = torch.nn.CrossEntropyLoss()\n",
    "\n",
    "optimizer = torch.optim.Adam(large_model.parameters(), lr=0.01)\n",
    "\n",
    "scheduler = optim.lr_scheduler.StepLR(optimizer, step_size=10, gamma=0.1)"
   ]
  },
  {
   "cell_type": "code",
   "execution_count": 182,
   "id": "415b8268-c580-452d-898d-e1cc12f7b8b7",
   "metadata": {
    "scrolled": true
   },
   "outputs": [
    {
     "name": "stdout",
     "output_type": "stream",
     "text": [
      "Epoch 1/30, Loss: 10.956963481732123\n",
      "Epoch 2/30, Loss: 10.666478564888811\n",
      "Epoch 3/30, Loss: 10.615868870030598\n",
      "Epoch 4/30, Loss: 10.587926255908727\n",
      "Epoch 5/30, Loss: 10.589514372748694\n",
      "Epoch 6/30, Loss: 10.567694669496387\n",
      "Epoch 7/30, Loss: 10.569591892818789\n",
      "Epoch 8/30, Loss: 10.564698232731349\n",
      "Epoch 9/30, Loss: 10.558911545786449\n",
      "Epoch 10/30, Loss: 10.548901934019277\n",
      "Epoch 11/30, Loss: 10.443204395597022\n",
      "Epoch 12/30, Loss: 10.434753459485941\n",
      "Epoch 13/30, Loss: 10.432182579431277\n",
      "Epoch 14/30, Loss: 10.430846333961634\n",
      "Epoch 15/30, Loss: 10.429653280065246\n",
      "Epoch 16/30, Loss: 10.42884044610584\n",
      "Epoch 17/30, Loss: 10.426114700820474\n",
      "Epoch 18/30, Loss: 10.427189160858623\n",
      "Epoch 19/30, Loss: 10.426370155490773\n",
      "Epoch 20/30, Loss: 10.426026039025848\n",
      "Epoch 21/30, Loss: 10.412820973561148\n",
      "Epoch 22/30, Loss: 10.411825532339295\n",
      "Epoch 23/30, Loss: 10.412072902147047\n",
      "Epoch 24/30, Loss: 10.411158246664323\n",
      "Epoch 25/30, Loss: 10.411243098035513\n",
      "Epoch 26/30, Loss: 10.410516457429463\n",
      "Epoch 27/30, Loss: 10.41043891186293\n",
      "Epoch 28/30, Loss: 10.410372575938167\n",
      "Epoch 29/30, Loss: 10.410508421410672\n",
      "Epoch 30/30, Loss: 10.410589198602146\n",
      "Epoch 1/30, Loss: 10.538149202984213\n",
      "Epoch 2/30, Loss: 10.554159831145967\n",
      "Epoch 3/30, Loss: 10.545371617306209\n",
      "Epoch 4/30, Loss: 10.546799947296611\n",
      "Epoch 5/30, Loss: 10.543985832058056\n",
      "Epoch 6/30, Loss: 10.535527772695856\n",
      "Epoch 7/30, Loss: 10.546557490560065\n",
      "Epoch 8/30, Loss: 10.540091681266716\n",
      "Epoch 9/30, Loss: 10.54169828180467\n",
      "Epoch 10/30, Loss: 10.532058339112853\n",
      "Epoch 11/30, Loss: 10.439430865069205\n",
      "Epoch 12/30, Loss: 10.43320066278631\n",
      "Epoch 13/30, Loss: 10.431287158008727\n",
      "Epoch 14/30, Loss: 10.429666138794296\n",
      "Epoch 15/30, Loss: 10.43074582572478\n",
      "Epoch 16/30, Loss: 10.429895344220112\n",
      "Epoch 17/30, Loss: 10.427721761710817\n",
      "Epoch 18/30, Loss: 10.427675658701018\n",
      "Epoch 19/30, Loss: 10.42831099811803\n",
      "Epoch 20/30, Loss: 10.427842530947794\n",
      "Epoch 21/30, Loss: 10.414550266558932\n",
      "Epoch 22/30, Loss: 10.413999603896684\n",
      "Epoch 23/30, Loss: 10.41315766455422\n",
      "Epoch 24/30, Loss: 10.412755475306785\n",
      "Epoch 25/30, Loss: 10.41279991457618\n",
      "Epoch 26/30, Loss: 10.41228142773754\n",
      "Epoch 27/30, Loss: 10.412873268127441\n",
      "Epoch 28/30, Loss: 10.412642570524913\n",
      "Epoch 29/30, Loss: 10.412927325953289\n",
      "Epoch 30/30, Loss: 10.411967708572993\n",
      "Epoch 1/30, Loss: 10.532495062726714\n",
      "Epoch 2/30, Loss: 10.536438860752824\n",
      "Epoch 3/30, Loss: 10.543118140456313\n",
      "Epoch 4/30, Loss: 10.52657765768249\n",
      "Epoch 5/30, Loss: 10.541636064019002\n",
      "Epoch 6/30, Loss: 10.539893287092104\n",
      "Epoch 7/30, Loss: 10.545017633792227\n",
      "Epoch 8/30, Loss: 10.53622419672342\n",
      "Epoch 9/30, Loss: 10.538008879760469\n",
      "Epoch 10/30, Loss: 10.541549202116748\n",
      "Epoch 11/30, Loss: 10.44290687546382\n",
      "Epoch 12/30, Loss: 10.43215751098457\n",
      "Epoch 13/30, Loss: 10.429614079899123\n",
      "Epoch 14/30, Loss: 10.42883520700257\n",
      "Epoch 15/30, Loss: 10.426951857748776\n",
      "Epoch 16/30, Loss: 10.428257477573487\n",
      "Epoch 17/30, Loss: 10.426508532901426\n",
      "Epoch 18/30, Loss: 10.427139226056244\n",
      "Epoch 19/30, Loss: 10.426260354118982\n",
      "Epoch 20/30, Loss: 10.424380104001445\n",
      "Epoch 21/30, Loss: 10.414628470905612\n",
      "Epoch 22/30, Loss: 10.413011125962651\n",
      "Epoch 23/30, Loss: 10.412776460415575\n",
      "Epoch 24/30, Loss: 10.412582404176954\n",
      "Epoch 25/30, Loss: 10.41219920599201\n",
      "Epoch 26/30, Loss: 10.412036047702257\n",
      "Epoch 27/30, Loss: 10.412459400948734\n",
      "Epoch 28/30, Loss: 10.411773909985179\n",
      "Epoch 29/30, Loss: 10.411604235938508\n",
      "Epoch 30/30, Loss: 10.411289901342649\n"
     ]
    }
   ],
   "source": [
    "n_epoch = 30\n",
    "comp_losses_4 = []\n",
    "comp_val_acc_4 = []\n",
    "for i in range(n_runs):\n",
    "    losses_, val_acc_ = expand_training(small_model, large_model, train_loader, test_loader, n_epoch, 1,5)\n",
    "    comp_losses_4.append(losses_)\n",
    "    comp_val_acc_4.append(val_acc_)"
   ]
  },
  {
   "cell_type": "code",
   "execution_count": 183,
   "id": "367590c2-aa5b-42e9-9332-002664770bea",
   "metadata": {},
   "outputs": [
    {
     "data": {
      "text/plain": [
       "0.2364"
      ]
     },
     "execution_count": 183,
     "metadata": {},
     "output_type": "execute_result"
    }
   ],
   "source": [
    "test(large_model,1,test_loader)"
   ]
  },
  {
   "cell_type": "markdown",
   "id": "cbb3a879-97ee-4c9b-a8ba-621964981b0b",
   "metadata": {
    "jp-MarkdownHeadingCollapsed": true
   },
   "source": [
    "### Setting ratio of teacher model logits to labels loss to 5:1"
   ]
  },
  {
   "cell_type": "code",
   "execution_count": 184,
   "id": "318a6834-e9d1-4560-8b33-6400ca074479",
   "metadata": {},
   "outputs": [],
   "source": [
    "large_model = LinearModelLargeFunction(IMG_SHAPE**2, output_size=len(training_data.classes), batch_size=train_loader.batch_size)"
   ]
  },
  {
   "cell_type": "code",
   "execution_count": 185,
   "id": "7c60d9a8-5b45-4db6-bc30-b08d65c28957",
   "metadata": {},
   "outputs": [
    {
     "data": {
      "text/plain": [
       "0.0884"
      ]
     },
     "execution_count": 185,
     "metadata": {},
     "output_type": "execute_result"
    }
   ],
   "source": [
    "test(large_model, 1, test_loader)"
   ]
  },
  {
   "cell_type": "code",
   "execution_count": 186,
   "id": "a196e8b2-8dfe-4a0f-ac30-44d0fe7a585e",
   "metadata": {},
   "outputs": [],
   "source": [
    "loss_fn = torch.nn.CrossEntropyLoss()\n",
    "\n",
    "optimizer = torch.optim.Adam(large_model.parameters(), lr=0.01)\n",
    "\n",
    "scheduler = optim.lr_scheduler.StepLR(optimizer, step_size=10, gamma=0.1)"
   ]
  },
  {
   "cell_type": "code",
   "execution_count": 187,
   "id": "5cc2b223-99f9-43c0-a407-db5fe110d13a",
   "metadata": {
    "scrolled": true
   },
   "outputs": [
    {
     "name": "stdout",
     "output_type": "stream",
     "text": [
      "Epoch 1/30, Loss: 2.231983361262518\n",
      "Epoch 2/30, Loss: 2.034791626789811\n",
      "Epoch 3/30, Loss: 2.0127521532751076\n",
      "Epoch 4/30, Loss: 2.0026136626049436\n",
      "Epoch 5/30, Loss: 1.9971373297188255\n",
      "Epoch 6/30, Loss: 1.996480489967727\n",
      "Epoch 7/30, Loss: 1.995913850513219\n",
      "Epoch 8/30, Loss: 1.9936707924941743\n",
      "Epoch 9/30, Loss: 1.9918480337658246\n",
      "Epoch 10/30, Loss: 1.9896553831888069\n",
      "Epoch 11/30, Loss: 1.9489620018096954\n",
      "Epoch 12/30, Loss: 1.9482206328272362\n",
      "Epoch 13/30, Loss: 1.9481971979751782\n",
      "Epoch 14/30, Loss: 1.9481230211776899\n",
      "Epoch 15/30, Loss: 1.9477167178360357\n",
      "Epoch 16/30, Loss: 1.9484229972359466\n",
      "Epoch 17/30, Loss: 1.9477014215746549\n",
      "Epoch 18/30, Loss: 1.9481779770417647\n",
      "Epoch 19/30, Loss: 1.9480682803024556\n",
      "Epoch 20/30, Loss: 1.9478826109181597\n",
      "Epoch 21/30, Loss: 1.943195105209546\n",
      "Epoch 22/30, Loss: 1.9428649755354575\n",
      "Epoch 23/30, Loss: 1.9427171099201208\n",
      "Epoch 24/30, Loss: 1.9428310482816415\n",
      "Epoch 25/30, Loss: 1.9428576215739135\n",
      "Epoch 26/30, Loss: 1.942625932824749\n",
      "Epoch 27/30, Loss: 1.9425656318511915\n",
      "Epoch 28/30, Loss: 1.9427809190963814\n",
      "Epoch 29/30, Loss: 1.9428144963541654\n",
      "Epoch 30/30, Loss: 1.9427358775224333\n",
      "Epoch 1/30, Loss: 1.9896152749867506\n",
      "Epoch 2/30, Loss: 1.9913004706214241\n",
      "Epoch 3/30, Loss: 1.9886271353720397\n",
      "Epoch 4/30, Loss: 1.9903244979097656\n",
      "Epoch 5/30, Loss: 1.9883872304164187\n",
      "Epoch 6/30, Loss: 1.9908474853188372\n",
      "Epoch 7/30, Loss: 1.9918240630061923\n",
      "Epoch 8/30, Loss: 1.9882214270846945\n",
      "Epoch 9/30, Loss: 1.9893073406018003\n",
      "Epoch 10/30, Loss: 1.988064310614797\n",
      "Epoch 11/30, Loss: 1.9478632074312119\n",
      "Epoch 12/30, Loss: 1.9474150822348846\n",
      "Epoch 13/30, Loss: 1.9476621952313316\n",
      "Epoch 14/30, Loss: 1.9478087859483444\n",
      "Epoch 15/30, Loss: 1.9472090776690143\n",
      "Epoch 16/30, Loss: 1.9474221652662251\n",
      "Epoch 17/30, Loss: 1.9474474888452342\n",
      "Epoch 18/30, Loss: 1.9474493237677366\n",
      "Epoch 19/30, Loss: 1.9471020365036098\n",
      "Epoch 20/30, Loss: 1.9473871690210398\n",
      "Epoch 21/30, Loss: 1.9427201986007592\n",
      "Epoch 22/30, Loss: 1.9425505862193284\n",
      "Epoch 23/30, Loss: 1.9424981551957954\n",
      "Epoch 24/30, Loss: 1.9424230233502602\n",
      "Epoch 25/30, Loss: 1.9425233050742008\n",
      "Epoch 26/30, Loss: 1.9423596074425458\n",
      "Epoch 27/30, Loss: 1.942418546743796\n",
      "Epoch 28/30, Loss: 1.9425240821478156\n",
      "Epoch 29/30, Loss: 1.942597753488758\n",
      "Epoch 30/30, Loss: 1.94245812361738\n",
      "Epoch 1/30, Loss: 1.989952330247388\n",
      "Epoch 2/30, Loss: 1.9875744461402698\n",
      "Epoch 3/30, Loss: 1.990622909441495\n",
      "Epoch 4/30, Loss: 1.988274878561115\n",
      "Epoch 5/30, Loss: 1.9908786227547406\n",
      "Epoch 6/30, Loss: 1.9894732153675163\n",
      "Epoch 7/30, Loss: 1.9889477191447602\n",
      "Epoch 8/30, Loss: 1.9895894797602323\n",
      "Epoch 9/30, Loss: 1.991877735653241\n",
      "Epoch 10/30, Loss: 1.9882922170256836\n",
      "Epoch 11/30, Loss: 1.9483474699086325\n",
      "Epoch 12/30, Loss: 1.9473128499661152\n",
      "Epoch 13/30, Loss: 1.9471912210027327\n",
      "Epoch 14/30, Loss: 1.947316122421382\n",
      "Epoch 15/30, Loss: 1.9469649713872794\n",
      "Epoch 16/30, Loss: 1.9472587153639898\n",
      "Epoch 17/30, Loss: 1.9471107680116817\n",
      "Epoch 18/30, Loss: 1.947165070514215\n",
      "Epoch 19/30, Loss: 1.947186501780179\n",
      "Epoch 20/30, Loss: 1.9470038337683098\n",
      "Epoch 21/30, Loss: 1.9426539883723486\n",
      "Epoch 22/30, Loss: 1.9423717087881207\n",
      "Epoch 23/30, Loss: 1.9423423717788177\n",
      "Epoch 24/30, Loss: 1.9424071595091825\n",
      "Epoch 25/30, Loss: 1.9424419686217314\n",
      "Epoch 26/30, Loss: 1.9423170489629924\n",
      "Epoch 27/30, Loss: 1.942445988462768\n",
      "Epoch 28/30, Loss: 1.9424958279435063\n",
      "Epoch 29/30, Loss: 1.9423756029328068\n",
      "Epoch 30/30, Loss: 1.9424591054531737\n"
     ]
    }
   ],
   "source": [
    "n_epoch = 30\n",
    "comp_losses_5 = []\n",
    "comp_val_acc_5 = []\n",
    "for i in range(n_runs):\n",
    "    losses_, val_acc_ = expand_training(small_model, large_model, train_loader, test_loader, n_epoch, 5,1)\n",
    "    comp_losses_5.append(losses_)\n",
    "    comp_val_acc_5.append(val_acc_)"
   ]
  },
  {
   "cell_type": "code",
   "execution_count": 190,
   "id": "4d2008ff-cc9d-46f5-af95-24c254358245",
   "metadata": {},
   "outputs": [],
   "source": [
    "comp_losses_arr = [comp_losses_ref, comp_losses_1, comp_losses_2, comp_losses_3, comp_losses_4, comp_losses_5]\n",
    "val_acc_arr = [comp_val_acc_ref, comp_val_acc_1, comp_val_acc_2, comp_val_acc_3, comp_val_acc_4, comp_val_acc_5]"
   ]
  },
  {
   "cell_type": "code",
   "execution_count": 191,
   "id": "12bfe2d9-1b34-4a39-afc2-bea6edca775b",
   "metadata": {},
   "outputs": [],
   "source": [
    "save_var_pickle(comp_losses_arr, \"PickleFiles\", \"comp_losses_rev_KD\")"
   ]
  },
  {
   "cell_type": "code",
   "execution_count": 193,
   "id": "3235b2cb-e0da-4adb-8dae-deb7f492a230",
   "metadata": {},
   "outputs": [],
   "source": [
    "save_var_pickle(val_acc_arr, \"PickleFiles\", \"comp_val_acc_rev_KD\")"
   ]
  },
  {
   "cell_type": "code",
   "execution_count": 264,
   "id": "db454745-50d4-43fe-ae4d-e36f78c7666d",
   "metadata": {},
   "outputs": [],
   "source": [
    "with open('PickleFiles/comp_losses_rev_KD.pkl', 'rb') as file:\n",
    "\tcomp_losses_arr = pickle.load(file)"
   ]
  },
  {
   "cell_type": "code",
   "execution_count": 265,
   "id": "b2eff38c-f3dd-44d4-b2e6-e92fc47d80b7",
   "metadata": {},
   "outputs": [],
   "source": [
    "with open('PickleFiles/comp_val_acc_rev_KD.pkl', 'rb') as file:\n",
    "\tval_acc_arr = pickle.load(file)"
   ]
  },
  {
   "cell_type": "markdown",
   "id": "dd53ee5c-9849-4fe2-8dd1-78fa365fa26b",
   "metadata": {
    "jp-MarkdownHeadingCollapsed": true
   },
   "source": [
    "## Analysis"
   ]
  },
  {
   "cell_type": "markdown",
   "id": "56f2e740-cd5a-4ee1-bdf8-1299f51281b2",
   "metadata": {},
   "source": [
    "The models are each trained for 3 runs, where each run a new model is instantiated and trained for 30 epochs on the dataset. The accuracy and loss from this training is stored and analysed below."
   ]
  },
  {
   "cell_type": "code",
   "execution_count": 376,
   "id": "58911b65-8764-4ecc-8fe6-4c240a3b5020",
   "metadata": {},
   "outputs": [],
   "source": [
    "labels = [\"Reference\", \"1:1\" , \"1:3\", \"3:1\", \"1:5\", \"5:1\"]\n",
    "formatted_val_acc = []\n",
    "formatted_loss = []\n",
    "val_acc_variance = []\n",
    "loss_variance = []\n",
    "for i in range(len(labels)):\n",
    "    formatted_val_acc.append(np.sum(np.array(val_acc_arr[i]),axis=0) / n_runs)\n",
    "    val_acc_variance.append(np.var(val_acc_arr[i], axis=0))\n",
    "    \n",
    "    formatted_loss.append(np.sum(np.array(comp_losses_arr[i]),axis=0) / n_runs)\n",
    "    loss_variance.append(np.var(comp_losses_arr[i],axis=0))\n",
    "\n",
    "\n",
    "temp = []\n",
    "for i in range(30):\n",
    "    temp.append(formatted_loss[0][1562*i])\n",
    "formatted_loss[0] = temp"
   ]
  },
  {
   "cell_type": "code",
   "execution_count": 377,
   "id": "8b298237-795f-45ac-b8e0-9f70b3f13d88",
   "metadata": {},
   "outputs": [],
   "source": [
    "def format_append(mu, var):\n",
    "    return str(round(mu,3))+\"±\"+str(round(var,3))"
   ]
  },
  {
   "cell_type": "code",
   "execution_count": 378,
   "id": "7d028b86-478a-4226-93da-f44c7de2060f",
   "metadata": {
    "scrolled": true
   },
   "outputs": [],
   "source": [
    "table = PrettyTable()\n",
    "header_row = [\"Model\",\"First Epoch Loss\" , \"Last Epoch Loss\", \"First Epoch Accuracy\", \"Last Epoch Accuracy\"]\n",
    "table_rows = []\n",
    "for i in range(len(labels)):\n",
    "    vals = [\n",
    "        labels[i],\n",
    "        format_append(formatted_loss[i][0], loss_variance[i][0]),\n",
    "        format_append(formatted_loss[i][-1], loss_variance[i][-1]),\n",
    "        format_append(formatted_val_acc[i][0], val_acc_variance[i][0]),\n",
    "        format_append(formatted_val_acc[i][-1], val_acc_variance[i][-1]),\n",
    "    ]\n",
    "    table_rows.append(vals)\n",
    "table.field_names = header_row\n",
    "table.add_rows(table_rows)"
   ]
  },
  {
   "cell_type": "code",
   "execution_count": 379,
   "id": "023561a3-a622-4ae6-a2d6-63fe50d75305",
   "metadata": {},
   "outputs": [
    {
     "name": "stdout",
     "output_type": "stream",
     "text": [
      "Summary of runs\n",
      "+-----------+------------------+-----------------+----------------------+---------------------+\n",
      "|   Model   | First Epoch Loss | Last Epoch Loss | First Epoch Accuracy | Last Epoch Accuracy |\n",
      "+-----------+------------------+-----------------+----------------------+---------------------+\n",
      "| Reference |   1.925±0.001    |   2.025±0.001   |      0.281±0.0       |      0.281±0.0      |\n",
      "|    1:1    |   2.038±0.004    |     1.94±0.0    |       0.27±0.0       |      0.284±0.0      |\n",
      "|    1:3    |    6.078±0.02    |    5.805±0.0    |      0.259±0.0       |      0.286±0.0      |\n",
      "|    3:1    |   2.072±0.013    |    1.942±0.0    |      0.274±0.0       |      0.283±0.0      |\n",
      "|    1:5    |   10.676±0.04    |    10.411±0.0   |      0.224±0.0       |      0.237±0.0      |\n",
      "|    5:1    |   2.071±0.013    |    1.943±0.0    |      0.275±0.0       |      0.283±0.0      |\n",
      "+-----------+------------------+-----------------+----------------------+---------------------+\n"
     ]
    }
   ],
   "source": [
    "print(\"Summary of runs\")\n",
    "print(table)"
   ]
  },
  {
   "cell_type": "markdown",
   "id": "264af12a-5390-4335-8e5d-836140a96c47",
   "metadata": {},
   "source": [
    "Due to the simple nature of the models, the accuracy is quite low but an analysis can still be drawn from the data.\n",
    "\n",
    "The table above shows that the models with a higher weightage on the logits output (small model outputs) were able to perform better than the other configurations. Ratios of 3:1 and 5: outperformed ratios 1:3 and 1:5 in the last epoch loss and the last epoch accuracy. The models trained using 5:1 and 3:1 ratios also had a lower last epoch loss compared to the baseline where the entire model is trained without a reference model. This can denote that by emphasizing slightly more on the outputs of the pre-trained model, it is possible to gain better performance during the training of a larger model. \n",
    "\n",
    "The results show that it is possible to impart knowledge from the smaller model to a larger model during training and extract an advantage in performance."
   ]
  },
  {
   "cell_type": "markdown",
   "id": "e3e798b1-9491-4fc6-983a-2adea816fab2",
   "metadata": {},
   "source": [
    "The two loss plots below show that the reference, 1:1, 3:1 and 5:1 models had the lowest losses. 1:5 and 1:3 models had the worst loss.  "
   ]
  },
  {
   "cell_type": "code",
   "execution_count": 380,
   "id": "4e8bbc97-1a84-4a3a-971f-1d34cc42de30",
   "metadata": {},
   "outputs": [
    {
     "data": {
      "image/png": "[encoded data removed]",
      "text/plain": [
       "<Figure size 640x480 with 1 Axes>"
      ]
     },
     "metadata": {},
     "output_type": "display_data"
    }
   ],
   "source": [
    "for i in range(len(formatted_loss)):\n",
    "    plt.plot(formatted_loss[i], label=labels[i])\n",
    "plt.legend()\n",
    "plt.xlabel(\"Epochs\")\n",
    "plt.ylabel(\"Loss\")\n",
    "plt.title(\"Loss of each model per epoch\")\n",
    "plt.show()"
   ]
  },
  {
   "cell_type": "code",
   "execution_count": 383,
   "id": "18ad26a4-44d4-4176-8259-dca773bd50ea",
   "metadata": {},
   "outputs": [
    {
     "data": {
      "image/png": "[encoded data removed]",
      "text/plain": [
       "<Figure size 640x480 with 1 Axes>"
      ]
     },
     "metadata": {},
     "output_type": "display_data"
    }
   ],
   "source": [
    "shortened = [formatted_loss[0], formatted_loss[1], formatted_loss[3], formatted_loss[5]]\n",
    "shortened_labels = [labels[0], labels[1], labels[3], labels[5]]\n",
    "\n",
    "for i in range(len(shortened)):\n",
    "    plt.plot(shortened[i], label=shortened_labels[i])\n",
    "plt.legend()\n",
    "plt.xlabel(\"Epochs\")\n",
    "plt.ylabel(\"Loss\")\n",
    "plt.title(\"Loss of each model per epoch - Smaller subset\")\n",
    "plt.show()"
   ]
  },
  {
   "cell_type": "code",
   "execution_count": 382,
   "id": "8c191cdf-0e52-49f4-bf3f-c97acb716c16",
   "metadata": {},
   "outputs": [
    {
     "data": {
      "image/png": "[encoded data removed]",
      "text/plain": [
       "<Figure size 640x480 with 1 Axes>"
      ]
     },
     "metadata": {},
     "output_type": "display_data"
    }
   ],
   "source": [
    "for i in range(len(formatted_val_acc)):\n",
    "    plt.plot(formatted_val_acc[i], label=labels[i])\n",
    "plt.legend()\n",
    "plt.xlabel(\"Epochs\")\n",
    "plt.ylabel(\"Accuracy\")\n",
    "plt.title(\"Accuracy of each model per epoch\")\n",
    "plt.show()"
   ]
  },
  {
   "cell_type": "markdown",
   "id": "1001ae7b-fdde-4f1d-b96d-e03c3fad2ffc",
   "metadata": {},
   "source": [
    "From these results, it can be seen that reverse knowledge distillation can be useful for training larger models given smaller pre-trained models. Due to the simplicity of the models, the results were not very high but it can be a useful starting point. In further experiments, we can test other methods for reverse knowledge distillation and study them on better, more comprehensive models."
   ]
  },
  {
   "cell_type": "markdown",
   "id": "87893f93-ebc7-498e-b6aa-e5d5161d457a",
   "metadata": {
    "jp-MarkdownHeadingCollapsed": true
   },
   "source": [
    "## MNIST"
   ]
  },
  {
   "cell_type": "code",
   "execution_count": 20,
   "id": "cdaebe64-daf0-49be-8fc8-67467f61ba86",
   "metadata": {},
   "outputs": [],
   "source": [
    "class AddGaussianNoise(object):\n",
    "    def __init__(self, mean=0., std=1.):\n",
    "        self.std = std\n",
    "        self.mean = mean\n",
    "        \n",
    "    def __call__(self, tensor):\n",
    "        return tensor + torch.randn(tensor.size()) * self.std + self.mean\n",
    "    \n",
    "    def __repr__(self):\n",
    "        return self.__class__.__name__ + '(mean={0}, std={1})'.format(self.mean, self.std)\n"
   ]
  },
  {
   "cell_type": "code",
   "execution_count": 30,
   "id": "e7e1fd94-7139-4f26-9ca3-160538e00202",
   "metadata": {},
   "outputs": [],
   "source": [
    "IMG_SHAPE = 32\n",
    "\n",
    "training_data = datasets.FashionMNIST(\n",
    "    root=\"data/FashionMNIST\",\n",
    "    train=True,\n",
    "    download=True,\n",
    "    transform=transforms.Compose([\n",
    "        transforms.ToTensor(),\n",
    "        # transforms.Grayscale(),\n",
    "        transforms.Resize((IMG_SHAPE, IMG_SHAPE)),\n",
    "        AddGaussianNoise(0,0.2)\n",
    "    ])\n",
    ")\n",
    "\n",
    "test_data = datasets.FashionMNIST(\n",
    "    root=\"data/FashionMNIST\",\n",
    "    train=False,\n",
    "    download=True,\n",
    "    transform=transforms.Compose([\n",
    "        transforms.ToTensor(),\n",
    "        # transforms.Grayscale(),\n",
    "        transforms.Resize((IMG_SHAPE, IMG_SHAPE)),\n",
    "        AddGaussianNoise(0,0.2)\n",
    "        \n",
    "    ])\n",
    ")\n",
    "\n",
    "generator = torch.Generator().manual_seed(1213442)"
   ]
  },
  {
   "cell_type": "code",
   "execution_count": 31,
   "id": "62707a51-98b2-41a6-b249-eeb256b3a77e",
   "metadata": {},
   "outputs": [],
   "source": [
    "train_loader = torch.utils.data.DataLoader(training_data, batch_size=32, shuffle=True, generator=generator, drop_last=True)\n",
    "test_loader = torch.utils.data.DataLoader(test_data, batch_size=32, shuffle=False, generator=generator, drop_last=True)"
   ]
  },
  {
   "cell_type": "code",
   "execution_count": 32,
   "id": "50e1ff7b-66de-4dcb-8193-d93e49c84f6f",
   "metadata": {},
   "outputs": [
    {
     "data": {
      "image/png": "[encoded data removed]",
      "text/plain": [
       "<Figure size 640x480 with 5 Axes>"
      ]
     },
     "metadata": {},
     "output_type": "display_data"
    }
   ],
   "source": [
    "for i in range(5):\n",
    "    ax = plt.subplot(1,5,i+1)\n",
    "    img = train_loader.dataset[i][0]\n",
    "    ax.imshow(img.reshape(IMG_SHAPE, IMG_SHAPE,-1))\n",
    "    ax.title.set_text(int(train_loader.dataset[i][1]))\n",
    "plt.show()"
   ]
  },
  {
   "cell_type": "markdown",
   "id": "67951d9f-a393-43b7-9ef2-eb366c73784a",
   "metadata": {},
   "source": [
    "### Small Model - 3 Layers "
   ]
  },
  {
   "cell_type": "code",
   "execution_count": 56,
   "id": "a895dec0-b9c3-4f6e-85f7-9bc757e48c1a",
   "metadata": {},
   "outputs": [],
   "source": [
    "small_model = LinearModelSmall(IMG_SHAPE**2, output_size=len(training_data.classes), batch_size=train_loader.batch_size)"
   ]
  },
  {
   "cell_type": "code",
   "execution_count": 57,
   "id": "9b4e0854-ce30-486d-aa7f-17d1c5146c47",
   "metadata": {},
   "outputs": [
    {
     "data": {
      "text/plain": [
       "LinearModelSmall(\n",
       "  (linear1): Linear(in_features=1024, out_features=64, bias=True)\n",
       "  (linear2): Linear(in_features=64, out_features=128, bias=True)\n",
       "  (linear3): Linear(in_features=128, out_features=10, bias=True)\n",
       ")"
      ]
     },
     "execution_count": 57,
     "metadata": {},
     "output_type": "execute_result"
    }
   ],
   "source": [
    "small_model.to(device)"
   ]
  },
  {
   "cell_type": "code",
   "execution_count": 58,
   "id": "e7d77cc0-8909-460c-a944-6d692ceee28b",
   "metadata": {
    "scrolled": true
   },
   "outputs": [
    {
     "data": {
      "text/plain": [
       "0.1005"
      ]
     },
     "execution_count": 58,
     "metadata": {},
     "output_type": "execute_result"
    }
   ],
   "source": [
    "test(small_model,1,test_loader)"
   ]
  },
  {
   "cell_type": "code",
   "execution_count": 59,
   "id": "31c355f5-661f-4cd1-b9e5-01276ecaef86",
   "metadata": {},
   "outputs": [],
   "source": [
    "loss_fn = torch.nn.CrossEntropyLoss()\n",
    "\n",
    "optimizer = torch.optim.Adam(small_model.parameters(), lr=0.001)\n",
    "\n",
    "scheduler = optim.lr_scheduler.StepLR(optimizer, step_size=5, gamma=0.1)"
   ]
  },
  {
   "cell_type": "code",
   "execution_count": 60,
   "id": "525ac1e8-9302-43b9-81ca-9bb902ab0893",
   "metadata": {
    "scrolled": true
   },
   "outputs": [
    {
     "name": "stdout",
     "output_type": "stream",
     "text": [
      "Epoch  0  : \n",
      " Val Acc =  0.8111  Loss =  0.43911945819854736 Epoch time =  16.93\n",
      "Epoch  1  : \n",
      " Val Acc =  0.8402  Loss =  0.5331143140792847 Epoch time =  17.656\n",
      "Epoch  2  : \n",
      " Val Acc =  0.8458  Loss =  0.38866180181503296 Epoch time =  17.813\n",
      "Epoch  3  : \n",
      " Val Acc =  0.8415  Loss =  0.3509137034416199 Epoch time =  17.372\n",
      "Epoch  4  : \n",
      " Val Acc =  0.8534  Loss =  0.4644545316696167 Epoch time =  16.681\n",
      "Epoch  5  : \n",
      " Val Acc =  0.862  Loss =  0.4536769986152649 Epoch time =  16.411\n",
      "Epoch  6  : \n",
      " Val Acc =  0.8637  Loss =  0.27937057614326477 Epoch time =  16.461\n",
      "Epoch  7  : \n",
      " Val Acc =  0.866  Loss =  0.17433519661426544 Epoch time =  16.501\n",
      "Epoch  8  : \n",
      " Val Acc =  0.8654  Loss =  0.2336864471435547 Epoch time =  16.498\n",
      "Epoch  9  : \n",
      " Val Acc =  0.8658  Loss =  0.23143857717514038 Epoch time =  16.43\n"
     ]
    }
   ],
   "source": [
    "n_epochs = 10\n",
    "\n",
    "losses, val_acc, prof, grad_metrics = train(small_model, n_epochs, optimizer, scheduler, False, train_loader, test_loader)\n"
   ]
  },
  {
   "cell_type": "code",
   "execution_count": 61,
   "id": "7a3c17a8-776e-4f2d-84fe-eec453df704d",
   "metadata": {},
   "outputs": [
    {
     "data": {
      "text/plain": [
       "0.8645"
      ]
     },
     "execution_count": 61,
     "metadata": {},
     "output_type": "execute_result"
    }
   ],
   "source": [
    "test(small_model, 1, test_loader)"
   ]
  },
  {
   "cell_type": "code",
   "execution_count": 81,
   "id": "b1aee523-7199-4a8b-af44-a58312a9b9a1",
   "metadata": {},
   "outputs": [],
   "source": [
    "n_epoch = 10\n",
    "n_runs = 3\n"
   ]
  },
  {
   "cell_type": "markdown",
   "id": "b707be59-b790-4324-9fea-059669ba362e",
   "metadata": {},
   "source": [
    "### Training Large Model from scratch"
   ]
  },
  {
   "cell_type": "code",
   "execution_count": 63,
   "id": "a8edc735-5299-4fcc-abb1-e4f4dbe1a911",
   "metadata": {},
   "outputs": [],
   "source": [
    "large_model = LinearModelLargeFunction(IMG_SHAPE**2, output_size=len(training_data.classes), batch_size=train_loader.batch_size)"
   ]
  },
  {
   "cell_type": "code",
   "execution_count": 64,
   "id": "e1cca9b7-d2a1-4a61-81fd-93d952ae9168",
   "metadata": {},
   "outputs": [
    {
     "data": {
      "text/plain": [
       "LinearModelLargeFunction(\n",
       "  (linear1): Linear(in_features=1024, out_features=128, bias=True)\n",
       "  (linear2): Linear(in_features=128, out_features=256, bias=True)\n",
       "  (linear5): Linear(in_features=256, out_features=10, bias=True)\n",
       ")"
      ]
     },
     "execution_count": 64,
     "metadata": {},
     "output_type": "execute_result"
    }
   ],
   "source": [
    "large_model"
   ]
  },
  {
   "cell_type": "code",
   "execution_count": 65,
   "id": "7f8a906d-3934-4012-abdf-61dcf33f6def",
   "metadata": {},
   "outputs": [
    {
     "data": {
      "text/plain": [
       "0.0768"
      ]
     },
     "execution_count": 65,
     "metadata": {},
     "output_type": "execute_result"
    }
   ],
   "source": [
    "test(large_model, 1, test_loader)"
   ]
  },
  {
   "cell_type": "code",
   "execution_count": 66,
   "id": "330f09be-9e42-48c5-8947-1991d9e9d3b9",
   "metadata": {},
   "outputs": [],
   "source": [
    "loss_fn = torch.nn.CrossEntropyLoss()\n",
    "\n",
    "optimizer = torch.optim.Adam(large_model.parameters(), lr=0.001)\n",
    "\n",
    "scheduler = optim.lr_scheduler.StepLR(optimizer, step_size=5, gamma=0.1)"
   ]
  },
  {
   "cell_type": "code",
   "execution_count": 67,
   "id": "0f88462c-b6c2-4fb9-ab8a-b9bb05c6fa3e",
   "metadata": {
    "scrolled": true
   },
   "outputs": [
    {
     "name": "stdout",
     "output_type": "stream",
     "text": [
      "Epoch  0  : \n",
      " Val Acc =  0.8644  Loss =  0.19935913383960724 Epoch time =  13.194\n",
      "Epoch  1  : \n",
      " Val Acc =  0.8642  Loss =  0.5979503989219666 Epoch time =  13.299\n",
      "Epoch  2  : \n",
      " Val Acc =  0.8633  Loss =  0.10343647003173828 Epoch time =  13.309\n",
      "Epoch  3  : \n",
      " Val Acc =  0.864  Loss =  0.38614463806152344 Epoch time =  13.281\n",
      "Epoch  4  : \n",
      " Val Acc =  0.8661  Loss =  0.3249020576477051 Epoch time =  13.754\n",
      "Epoch  5  : \n",
      " Val Acc =  0.867  Loss =  0.18629512190818787 Epoch time =  13.908\n",
      "Epoch  6  : \n",
      " Val Acc =  0.8678  Loss =  0.3028176724910736 Epoch time =  14.387\n",
      "Epoch  7  : \n",
      " Val Acc =  0.8669  Loss =  0.2526460886001587 Epoch time =  12.915\n",
      "Epoch  8  : \n",
      " Val Acc =  0.8653  Loss =  0.4269982874393463 Epoch time =  15.364\n",
      "Epoch  9  : \n",
      " Val Acc =  0.8624  Loss =  0.3628179728984833 Epoch time =  13.554\n",
      "Epoch  0  : \n",
      " Val Acc =  0.864  Loss =  0.23093348741531372 Epoch time =  12.99\n",
      "Epoch  1  : \n",
      " Val Acc =  0.8621  Loss =  0.1843634992837906 Epoch time =  13.287\n",
      "Epoch  2  : \n",
      " Val Acc =  0.8645  Loss =  0.38234034180641174 Epoch time =  13.405\n",
      "Epoch  3  : \n",
      " Val Acc =  0.8694  Loss =  0.5113836526870728 Epoch time =  13.696\n",
      "Epoch  4  : \n",
      " Val Acc =  0.8684  Loss =  0.33645087480545044 Epoch time =  13.59\n",
      "Epoch  5  : \n",
      " Val Acc =  0.8623  Loss =  0.13875924050807953 Epoch time =  13.209\n",
      "Epoch  6  : \n",
      " Val Acc =  0.8619  Loss =  0.31569844484329224 Epoch time =  13.105\n",
      "Epoch  7  : \n",
      " Val Acc =  0.8654  Loss =  0.20008549094200134 Epoch time =  13.764\n",
      "Epoch  8  : \n",
      " Val Acc =  0.8631  Loss =  0.13779598474502563 Epoch time =  13.752\n",
      "Epoch  9  : \n",
      " Val Acc =  0.8669  Loss =  0.3954891562461853 Epoch time =  15.101\n",
      "Epoch  0  : \n",
      " Val Acc =  0.8639  Loss =  0.12674596905708313 Epoch time =  13.478\n",
      "Epoch  1  : \n",
      " Val Acc =  0.8646  Loss =  0.2670658230781555 Epoch time =  13.974\n",
      "Epoch  2  : \n",
      " Val Acc =  0.8667  Loss =  0.2183329313993454 Epoch time =  14.209\n",
      "Epoch  3  : \n",
      " Val Acc =  0.863  Loss =  0.14522024989128113 Epoch time =  14.319\n",
      "Epoch  4  : \n",
      " Val Acc =  0.8652  Loss =  0.15659309923648834 Epoch time =  15.408\n",
      "Epoch  5  : \n",
      " Val Acc =  0.8612  Loss =  0.3617751896381378 Epoch time =  13.205\n",
      "Epoch  6  : \n",
      " Val Acc =  0.8651  Loss =  0.5404986143112183 Epoch time =  13.367\n",
      "Epoch  7  : \n",
      " Val Acc =  0.8652  Loss =  0.2763493061065674 Epoch time =  13.921\n",
      "Epoch  8  : \n",
      " Val Acc =  0.8685  Loss =  0.4736461043357849 Epoch time =  13.862\n",
      "Epoch  9  : \n",
      " Val Acc =  0.8606  Loss =  0.3321360647678375 Epoch time =  14.845\n"
     ]
    }
   ],
   "source": [
    "comp_losses_ref = []\n",
    "comp_val_acc_ref = []\n",
    "for i in range(n_runs):\n",
    "    losses_, val_acc_, prof_, grad_metrics_ = train(small_model, n_epochs, optimizer, scheduler, False, train_loader, test_loader)\n",
    "    comp_losses_ref.append(losses_)\n",
    "    comp_val_acc_ref.append(val_acc_)"
   ]
  },
  {
   "cell_type": "markdown",
   "id": "5f2953c7-893d-42b6-aa51-388bd7fb0a27",
   "metadata": {},
   "source": [
    "### Training model using reverse KD - Setting ratio of teacher model logits to labels loss to 1:1"
   ]
  },
  {
   "cell_type": "code",
   "execution_count": 82,
   "id": "12b9fd92-b439-460d-8ed0-865ffac340fc",
   "metadata": {},
   "outputs": [],
   "source": [
    "large_model = LinearModelLargeFunction(IMG_SHAPE**2, output_size=len(training_data.classes), batch_size=train_loader.batch_size)"
   ]
  },
  {
   "cell_type": "code",
   "execution_count": 83,
   "id": "7c2030e1-df23-4438-bc61-f67ebb483dfc",
   "metadata": {},
   "outputs": [
    {
     "data": {
      "text/plain": [
       "0.0903"
      ]
     },
     "execution_count": 83,
     "metadata": {},
     "output_type": "execute_result"
    }
   ],
   "source": [
    "test(large_model, 1, test_loader)"
   ]
  },
  {
   "cell_type": "code",
   "execution_count": 84,
   "id": "e2011006-1b0c-4b26-8fe2-5858b2806581",
   "metadata": {},
   "outputs": [],
   "source": [
    "loss_fn = torch.nn.CrossEntropyLoss()\n",
    "\n",
    "optimizer = torch.optim.Adam(large_model.parameters(), lr=0.001)\n",
    "\n",
    "scheduler = optim.lr_scheduler.StepLR(optimizer, step_size=5, gamma=0.1)"
   ]
  },
  {
   "cell_type": "code",
   "execution_count": 86,
   "id": "d65f6283-e438-46b5-b098-89beadea1322",
   "metadata": {
    "scrolled": true
   },
   "outputs": [
    {
     "name": "stdout",
     "output_type": "stream",
     "text": [
      "Epoch 1/10, Loss: 0.8166539387464523\n",
      "Epoch 2/10, Loss: 0.6336318262815476\n",
      "Epoch 3/10, Loss: 0.6092414533058802\n",
      "Epoch 4/10, Loss: 0.590318222562472\n",
      "Epoch 5/10, Loss: 0.5781913853049279\n",
      "Epoch 6/10, Loss: 0.5771562119325002\n",
      "Epoch 7/10, Loss: 0.5649459919293721\n",
      "Epoch 8/10, Loss: 0.5699637642820676\n",
      "Epoch 9/10, Loss: 0.5650927751580874\n",
      "Epoch 10/10, Loss: 0.55268528718551\n",
      "Epoch 1/10, Loss: 0.5656256010770798\n",
      "Epoch 2/10, Loss: 0.5540467357635498\n",
      "Epoch 3/10, Loss: 0.555321336332957\n",
      "Epoch 4/10, Loss: 0.5425125768224398\n",
      "Epoch 5/10, Loss: 0.5461125643253326\n",
      "Epoch 6/10, Loss: 0.5490728198846181\n",
      "Epoch 7/10, Loss: 0.5382735414703687\n",
      "Epoch 8/10, Loss: 0.5453037479956945\n",
      "Epoch 9/10, Loss: 0.5447558110316595\n",
      "Epoch 10/10, Loss: 0.5444285547216733\n",
      "Epoch 1/10, Loss: 0.5462551821708679\n",
      "Epoch 2/10, Loss: 0.5391764526009559\n",
      "Epoch 3/10, Loss: 0.5398369865059852\n",
      "Epoch 4/10, Loss: 0.5344631510655086\n",
      "Epoch 5/10, Loss: 0.5406997734427452\n",
      "Epoch 6/10, Loss: 0.5390218226830165\n",
      "Epoch 7/10, Loss: 0.5294176657517751\n",
      "Epoch 8/10, Loss: 0.5333863251725832\n",
      "Epoch 9/10, Loss: 0.5297497421264649\n",
      "Epoch 10/10, Loss: 0.5344984906037649\n"
     ]
    }
   ],
   "source": [
    "comp_losses_1 = []\n",
    "comp_val_acc_1 = []\n",
    "for i in range(n_runs):\n",
    "    losses_, val_acc_ = expand_training(small_model, large_model, train_loader, test_loader, n_epoch, 1,1)\n",
    "    comp_losses_1.append(losses_)\n",
    "    comp_val_acc_1.append(val_acc_)"
   ]
  },
  {
   "cell_type": "markdown",
   "id": "14a5b505-080f-4ebf-b00d-14b96ab2fcaf",
   "metadata": {},
   "source": [
    "### Setting ratio of teacher model logits to labels loss to 1:3"
   ]
  },
  {
   "cell_type": "code",
   "execution_count": 87,
   "id": "27d5c44b-20bc-4a93-a192-75066a7edb9b",
   "metadata": {},
   "outputs": [],
   "source": [
    "large_model = LinearModelLargeFunction(IMG_SHAPE**2, output_size=len(training_data.classes), batch_size=train_loader.batch_size)"
   ]
  },
  {
   "cell_type": "code",
   "execution_count": 88,
   "id": "99da7e0c-405b-4e6c-9eed-cdae737e964a",
   "metadata": {},
   "outputs": [
    {
     "data": {
      "text/plain": [
       "0.076"
      ]
     },
     "execution_count": 88,
     "metadata": {},
     "output_type": "execute_result"
    }
   ],
   "source": [
    "test(large_model, 1, test_loader)"
   ]
  },
  {
   "cell_type": "code",
   "execution_count": 89,
   "id": "dbfc1b76-19c8-40cd-8114-8cd9fac1c3ad",
   "metadata": {},
   "outputs": [],
   "source": [
    "loss_fn = torch.nn.CrossEntropyLoss()\n",
    "\n",
    "optimizer = torch.optim.Adam(large_model.parameters(), lr=0.001)\n",
    "\n",
    "scheduler = optim.lr_scheduler.StepLR(optimizer, step_size=5, gamma=0.1)"
   ]
  },
  {
   "cell_type": "code",
   "execution_count": 90,
   "id": "25e82d95-fc07-494d-8f31-097bee2e7bd7",
   "metadata": {
    "scrolled": true
   },
   "outputs": [
    {
     "name": "stdout",
     "output_type": "stream",
     "text": [
      "Epoch 1/10, Loss: 1.9992396866162618\n",
      "Epoch 2/10, Loss: 1.691134122522672\n",
      "Epoch 3/10, Loss: 1.6024423955599467\n",
      "Epoch 4/10, Loss: 1.5538725907007853\n",
      "Epoch 5/10, Loss: 1.5558028444449108\n",
      "Epoch 6/10, Loss: 1.543104735660553\n",
      "Epoch 7/10, Loss: 1.5386658799171449\n",
      "Epoch 8/10, Loss: 1.5198315631548565\n",
      "Epoch 9/10, Loss: 1.511283612124125\n",
      "Epoch 10/10, Loss: 1.4959513734499614\n",
      "Epoch 1/10, Loss: 1.5087175652503968\n",
      "Epoch 2/10, Loss: 1.502281922721863\n",
      "Epoch 3/10, Loss: 1.5079064675966898\n",
      "Epoch 4/10, Loss: 1.478439785528183\n",
      "Epoch 5/10, Loss: 1.5060307661533356\n",
      "Epoch 6/10, Loss: 1.476933883714676\n",
      "Epoch 7/10, Loss: 1.496550149901708\n",
      "Epoch 8/10, Loss: 1.4809516671657563\n",
      "Epoch 9/10, Loss: 1.4863318553606668\n",
      "Epoch 10/10, Loss: 1.4732502810955048\n",
      "Epoch 1/10, Loss: 1.4860909365653991\n",
      "Epoch 2/10, Loss: 1.4808282228310903\n",
      "Epoch 3/10, Loss: 1.471839437198639\n",
      "Epoch 4/10, Loss: 1.4763232108751934\n",
      "Epoch 5/10, Loss: 1.471916700299581\n",
      "Epoch 6/10, Loss: 1.4845719823678334\n",
      "Epoch 7/10, Loss: 1.4762969278971354\n",
      "Epoch 8/10, Loss: 1.4557825039227803\n",
      "Epoch 9/10, Loss: 1.4672313431104025\n",
      "Epoch 10/10, Loss: 1.4568285460154216\n"
     ]
    }
   ],
   "source": [
    "comp_losses_2 = []\n",
    "comp_val_acc_2 = []\n",
    "for i in range(n_runs):\n",
    "    losses_, val_acc_ = expand_training(small_model, large_model, train_loader, test_loader, n_epoch, 1,3)\n",
    "    comp_losses_2.append(losses_)\n",
    "    comp_val_acc_2.append(val_acc_)"
   ]
  },
  {
   "cell_type": "code",
   "execution_count": 91,
   "id": "fce29f07-5f37-49d9-894c-f0e8db6b2ef8",
   "metadata": {},
   "outputs": [
    {
     "data": {
      "text/plain": [
       "0.8248"
      ]
     },
     "execution_count": 91,
     "metadata": {},
     "output_type": "execute_result"
    }
   ],
   "source": [
    "test(large_model,1,test_loader)"
   ]
  },
  {
   "cell_type": "markdown",
   "id": "0cec4286-1750-4d1c-b67b-f0228183024e",
   "metadata": {},
   "source": [
    "### Setting ratio of teacher model logits to labels loss to 3:1"
   ]
  },
  {
   "cell_type": "code",
   "execution_count": 92,
   "id": "45a3393a-6549-4213-ad7c-8287f6be3b04",
   "metadata": {},
   "outputs": [],
   "source": [
    "large_model = LinearModelLargeFunction(IMG_SHAPE**2, output_size=len(training_data.classes), batch_size=train_loader.batch_size)"
   ]
  },
  {
   "cell_type": "code",
   "execution_count": 93,
   "id": "909113d3-4e27-4ec1-a1d8-a5902064653a",
   "metadata": {},
   "outputs": [
    {
     "data": {
      "text/plain": [
       "0.0639"
      ]
     },
     "execution_count": 93,
     "metadata": {},
     "output_type": "execute_result"
    }
   ],
   "source": [
    "test(large_model, 1, test_loader)"
   ]
  },
  {
   "cell_type": "code",
   "execution_count": 94,
   "id": "f3633c6b-0717-4982-aa5e-c852edf8e8b2",
   "metadata": {},
   "outputs": [],
   "source": [
    "loss_fn = torch.nn.CrossEntropyLoss()\n",
    "\n",
    "optimizer = torch.optim.Adam(large_model.parameters(), lr=0.001)\n",
    "\n",
    "scheduler = optim.lr_scheduler.StepLR(optimizer, step_size=5, gamma=0.1)"
   ]
  },
  {
   "cell_type": "code",
   "execution_count": 95,
   "id": "326c3517-385a-4615-94af-ac2fb920de5e",
   "metadata": {
    "scrolled": true
   },
   "outputs": [
    {
     "name": "stdout",
     "output_type": "stream",
     "text": [
      "Epoch 1/10, Loss: 1.190797148402532\n",
      "Epoch 2/10, Loss: 0.8457924189090729\n",
      "Epoch 3/10, Loss: 0.7945864206314087\n",
      "Epoch 4/10, Loss: 0.7684534945646921\n",
      "Epoch 5/10, Loss: 0.735477421951294\n",
      "Epoch 6/10, Loss: 0.7212430221954982\n",
      "Epoch 7/10, Loss: 0.7142918558478355\n",
      "Epoch 8/10, Loss: 0.7075648030598959\n",
      "Epoch 9/10, Loss: 0.7011717501004537\n",
      "Epoch 10/10, Loss: 0.7028534027417501\n",
      "Epoch 1/10, Loss: 0.7146886024157206\n",
      "Epoch 2/10, Loss: 0.6955652578830719\n",
      "Epoch 3/10, Loss: 0.692206824739774\n",
      "Epoch 4/10, Loss: 0.6995741087436677\n",
      "Epoch 5/10, Loss: 0.6937714194933573\n",
      "Epoch 6/10, Loss: 0.6900520602146785\n",
      "Epoch 7/10, Loss: 0.6726972607215246\n",
      "Epoch 8/10, Loss: 0.6812591883182526\n",
      "Epoch 9/10, Loss: 0.664443928718567\n",
      "Epoch 10/10, Loss: 0.6830444322864214\n",
      "Epoch 1/10, Loss: 0.6791986229499181\n",
      "Epoch 2/10, Loss: 0.6681074448744456\n",
      "Epoch 3/10, Loss: 0.6671425595680872\n",
      "Epoch 4/10, Loss: 0.6701353748003642\n",
      "Epoch 5/10, Loss: 0.6648024286270141\n",
      "Epoch 6/10, Loss: 0.6745753975868225\n",
      "Epoch 7/10, Loss: 0.6702967974821726\n",
      "Epoch 8/10, Loss: 0.6638392126480739\n",
      "Epoch 9/10, Loss: 0.6732093977371851\n",
      "Epoch 10/10, Loss: 0.667381365386645\n"
     ]
    }
   ],
   "source": [
    "comp_losses_3 = []\n",
    "comp_val_acc_3 = []\n",
    "for i in range(n_runs):\n",
    "    losses_, val_acc_ = expand_training(small_model, large_model, train_loader, test_loader, n_epoch, 3,1)\n",
    "    comp_losses_3.append(losses_)\n",
    "    comp_val_acc_3.append(val_acc_)"
   ]
  },
  {
   "cell_type": "code",
   "execution_count": 96,
   "id": "6e8fbd29-94d7-49c7-88d3-14f34ac93450",
   "metadata": {},
   "outputs": [
    {
     "data": {
      "text/plain": [
       "0.8475"
      ]
     },
     "execution_count": 96,
     "metadata": {},
     "output_type": "execute_result"
    }
   ],
   "source": [
    "test(large_model,1,test_loader)"
   ]
  },
  {
   "cell_type": "markdown",
   "id": "f3b3008e-d3bc-4f31-b61b-5a47cd45085e",
   "metadata": {},
   "source": [
    "### Setting ratio of teacher model logits to labels loss to 1:5"
   ]
  },
  {
   "cell_type": "code",
   "execution_count": 97,
   "id": "094e165c-136c-4e5f-9bd9-68901c0b045b",
   "metadata": {},
   "outputs": [],
   "source": [
    "large_model = LinearModelLargeFunction(IMG_SHAPE**2, output_size=len(training_data.classes), batch_size=train_loader.batch_size)"
   ]
  },
  {
   "cell_type": "code",
   "execution_count": 98,
   "id": "7d2a6acf-ecf7-4185-86d3-c9d30d0ad722",
   "metadata": {},
   "outputs": [
    {
     "data": {
      "text/plain": [
       "0.1069"
      ]
     },
     "execution_count": 98,
     "metadata": {},
     "output_type": "execute_result"
    }
   ],
   "source": [
    "test(large_model, 1, test_loader)"
   ]
  },
  {
   "cell_type": "code",
   "execution_count": 99,
   "id": "2b7257f8-cdd2-4476-9fbc-56ec452b5814",
   "metadata": {},
   "outputs": [],
   "source": [
    "loss_fn = torch.nn.CrossEntropyLoss()\n",
    "\n",
    "optimizer = torch.optim.Adam(large_model.parameters(), lr=0.001)\n",
    "\n",
    "scheduler = optim.lr_scheduler.StepLR(optimizer, step_size=5, gamma=0.1)"
   ]
  },
  {
   "cell_type": "code",
   "execution_count": 100,
   "id": "2ee9abd2-938c-45de-a898-2c8dda896bec",
   "metadata": {
    "scrolled": true
   },
   "outputs": [
    {
     "name": "stdout",
     "output_type": "stream",
     "text": [
      "Epoch 1/10, Loss: 3.2675639828364056\n",
      "Epoch 2/10, Loss: 2.7010025387763976\n",
      "Epoch 3/10, Loss: 2.588466107813517\n",
      "Epoch 4/10, Loss: 2.5412571220318476\n",
      "Epoch 5/10, Loss: 2.513025731722514\n",
      "Epoch 6/10, Loss: 2.4882138015270234\n",
      "Epoch 7/10, Loss: 2.472900048605601\n",
      "Epoch 8/10, Loss: 2.447120174217224\n",
      "Epoch 9/10, Loss: 2.481720727443695\n",
      "Epoch 10/10, Loss: 2.4170128121376036\n",
      "Epoch 1/10, Loss: 2.454401798613866\n",
      "Epoch 2/10, Loss: 2.446707112073898\n",
      "Epoch 3/10, Loss: 2.4390561672369637\n",
      "Epoch 4/10, Loss: 2.4229259952068327\n",
      "Epoch 5/10, Loss: 2.4051715555985766\n",
      "Epoch 6/10, Loss: 2.410894724988937\n",
      "Epoch 7/10, Loss: 2.3969860206604006\n",
      "Epoch 8/10, Loss: 2.440022573566437\n",
      "Epoch 9/10, Loss: 2.4322269350687664\n",
      "Epoch 10/10, Loss: 2.415688278722763\n",
      "Epoch 1/10, Loss: 2.437706735897064\n",
      "Epoch 2/10, Loss: 2.3821053880055745\n",
      "Epoch 3/10, Loss: 2.387188619931539\n",
      "Epoch 4/10, Loss: 2.3986226424217225\n",
      "Epoch 5/10, Loss: 2.3862786768595377\n",
      "Epoch 6/10, Loss: 2.389784813928604\n",
      "Epoch 7/10, Loss: 2.346058799346288\n",
      "Epoch 8/10, Loss: 2.361849683380127\n",
      "Epoch 9/10, Loss: 2.3446663630326587\n",
      "Epoch 10/10, Loss: 2.3719016081015267\n"
     ]
    }
   ],
   "source": [
    "comp_losses_4 = []\n",
    "comp_val_acc_4 = []\n",
    "for i in range(n_runs):\n",
    "    losses_, val_acc_ = expand_training(small_model, large_model, train_loader, test_loader, n_epoch, 1,5)\n",
    "    comp_losses_4.append(losses_)\n",
    "    comp_val_acc_4.append(val_acc_)"
   ]
  },
  {
   "cell_type": "code",
   "execution_count": 101,
   "id": "cebb754c-603f-4275-97e2-ee4ba8201032",
   "metadata": {},
   "outputs": [
    {
     "data": {
      "text/plain": [
       "0.8301"
      ]
     },
     "execution_count": 101,
     "metadata": {},
     "output_type": "execute_result"
    }
   ],
   "source": [
    "test(large_model,1,test_loader)"
   ]
  },
  {
   "cell_type": "markdown",
   "id": "cbc2f732-1d96-4030-95ae-ea9c082b2ab0",
   "metadata": {},
   "source": [
    "### Setting ratio of teacher model logits to labels loss to 5:1"
   ]
  },
  {
   "cell_type": "code",
   "execution_count": 102,
   "id": "2f0b77c4-f7fa-4e26-92f9-9afccf455e99",
   "metadata": {},
   "outputs": [],
   "source": [
    "large_model = LinearModelLargeFunction(IMG_SHAPE**2, output_size=len(training_data.classes), batch_size=train_loader.batch_size)"
   ]
  },
  {
   "cell_type": "code",
   "execution_count": 103,
   "id": "934422e8-6359-46d7-b3c1-6b951ffb4c09",
   "metadata": {},
   "outputs": [
    {
     "data": {
      "text/plain": [
       "0.1064"
      ]
     },
     "execution_count": 103,
     "metadata": {},
     "output_type": "execute_result"
    }
   ],
   "source": [
    "test(large_model, 1, test_loader)"
   ]
  },
  {
   "cell_type": "code",
   "execution_count": 104,
   "id": "81703ec4-cb0a-47b9-ae2b-896689b4dc91",
   "metadata": {},
   "outputs": [],
   "source": [
    "loss_fn = torch.nn.CrossEntropyLoss()\n",
    "\n",
    "optimizer = torch.optim.Adam(large_model.parameters(), lr=0.001)\n",
    "\n",
    "scheduler = optim.lr_scheduler.StepLR(optimizer, step_size=5, gamma=0.1)"
   ]
  },
  {
   "cell_type": "code",
   "execution_count": 105,
   "id": "34208213-8d6a-43b5-9816-b8722fb4b931",
   "metadata": {
    "scrolled": true
   },
   "outputs": [
    {
     "name": "stdout",
     "output_type": "stream",
     "text": [
      "Epoch 1/10, Loss: 1.646485228951772\n",
      "Epoch 2/10, Loss: 1.1193518432855607\n",
      "Epoch 3/10, Loss: 1.0568102717638015\n",
      "Epoch 4/10, Loss: 1.0195242616176605\n",
      "Epoch 5/10, Loss: 0.9852027827580769\n",
      "Epoch 6/10, Loss: 0.9642179504712423\n",
      "Epoch 7/10, Loss: 0.9970466708819071\n",
      "Epoch 8/10, Loss: 0.9099523009061813\n",
      "Epoch 9/10, Loss: 0.9198036045710246\n",
      "Epoch 10/10, Loss: 0.906163081741333\n",
      "Epoch 1/10, Loss: 0.9616112030347188\n",
      "Epoch 2/10, Loss: 0.9154360173940659\n",
      "Epoch 3/10, Loss: 0.8942882590055465\n",
      "Epoch 4/10, Loss: 0.9241314309914906\n",
      "Epoch 5/10, Loss: 0.9020691163142522\n",
      "Epoch 6/10, Loss: 0.9004123792250951\n",
      "Epoch 7/10, Loss: 0.8769719896952312\n",
      "Epoch 8/10, Loss: 0.8742488001982371\n",
      "Epoch 9/10, Loss: 0.8702056057691574\n",
      "Epoch 10/10, Loss: 0.8785612359364827\n",
      "Epoch 1/10, Loss: 0.8792182473421096\n",
      "Epoch 2/10, Loss: 0.8457872117201487\n",
      "Epoch 3/10, Loss: 0.8535721213062605\n",
      "Epoch 4/10, Loss: 0.8536618563095728\n",
      "Epoch 5/10, Loss: 0.8510872877597809\n",
      "Epoch 6/10, Loss: 0.8425873022158941\n",
      "Epoch 7/10, Loss: 0.8472705971479416\n",
      "Epoch 8/10, Loss: 0.8337024012883504\n",
      "Epoch 9/10, Loss: 0.8534797160863876\n",
      "Epoch 10/10, Loss: 0.8275936669429144\n"
     ]
    }
   ],
   "source": [
    "comp_losses_5 = []\n",
    "comp_val_acc_5 = []\n",
    "for i in range(n_runs):\n",
    "    losses_, val_acc_ = expand_training(small_model, large_model, train_loader, test_loader, n_epoch, 5,1)\n",
    "    comp_losses_5.append(losses_)\n",
    "    comp_val_acc_5.append(val_acc_)"
   ]
  },
  {
   "cell_type": "code",
   "execution_count": 106,
   "id": "16534cac-5c71-479c-9fc1-4d2fdbf0f3f2",
   "metadata": {},
   "outputs": [],
   "source": [
    "comp_losses_arr = [comp_losses_ref, comp_losses_1, comp_losses_2, comp_losses_3, comp_losses_4, comp_losses_5]\n",
    "val_acc_arr = [comp_val_acc_ref, comp_val_acc_1, comp_val_acc_2, comp_val_acc_3, comp_val_acc_4, comp_val_acc_5]"
   ]
  },
  {
   "cell_type": "code",
   "execution_count": 107,
   "id": "4cb53336-6966-456b-a8fe-02795e0dc8a4",
   "metadata": {},
   "outputs": [],
   "source": [
    "save_var_pickle(comp_losses_arr, \"PickleFiles\", \"comp_losses_rev_KD_MNIST\")"
   ]
  },
  {
   "cell_type": "code",
   "execution_count": 108,
   "id": "61af30ba-d783-4e52-9830-4af68ca6f059",
   "metadata": {},
   "outputs": [],
   "source": [
    "save_var_pickle(val_acc_arr, \"PickleFiles\", \"comp_val_acc_rev_KD_MNIST\")"
   ]
  },
  {
   "cell_type": "code",
   "execution_count": null,
   "id": "730bb542-e5ec-47e2-a685-feb768de75ab",
   "metadata": {},
   "outputs": [],
   "source": []
  },
  {
   "cell_type": "code",
   "execution_count": 18,
   "id": "64eab0db-4e28-4405-93e7-cab4ab7d433f",
   "metadata": {},
   "outputs": [],
   "source": [
    "with open('PickleFiles/comp_losses_rev_KD_MNIST.pkl', 'rb') as file:\n",
    "\tcomp_losses_arr = pickle.load(file)"
   ]
  },
  {
   "cell_type": "code",
   "execution_count": 19,
   "id": "ac80cb19-94f4-4096-9ade-b2d7c1a5cfd4",
   "metadata": {},
   "outputs": [],
   "source": [
    "with open('PickleFiles/comp_val_acc_rev_KD_MNIST.pkl', 'rb') as file:\n",
    "\tval_acc_arr = pickle.load(file)"
   ]
  },
  {
   "cell_type": "markdown",
   "id": "db488822-2288-43fb-832a-bee58b4eaefb",
   "metadata": {
    "jp-MarkdownHeadingCollapsed": true
   },
   "source": [
    "## Analysis"
   ]
  },
  {
   "cell_type": "markdown",
   "id": "e0d1f933-235c-4e86-aa41-9b7441016b08",
   "metadata": {},
   "source": [
    "The models are each trained for 3 runs, where each run a new model is instantiated and trained for 30 epochs on the dataset. The accuracy and loss from this training is stored and analysed below."
   ]
  },
  {
   "cell_type": "code",
   "execution_count": 20,
   "id": "f6840ba1-b6e4-4f53-9a24-ec153c896618",
   "metadata": {},
   "outputs": [],
   "source": [
    "n_runs = 3"
   ]
  },
  {
   "cell_type": "code",
   "execution_count": 21,
   "id": "e24e92a6-8247-4fef-8315-5b33414d0c26",
   "metadata": {},
   "outputs": [],
   "source": [
    "labels = [\"Reference\", \"1:1\" , \"1:3\", \"3:1\", \"1:5\", \"5:1\"]\n",
    "formatted_val_acc = []\n",
    "formatted_loss = []\n",
    "val_acc_variance = []\n",
    "loss_variance = []\n",
    "for i in range(len(labels)):\n",
    "    formatted_val_acc.append(np.sum(np.array(val_acc_arr[i]),axis=0) / n_runs)\n",
    "    val_acc_variance.append(np.var(val_acc_arr[i], axis=0))\n",
    "    \n",
    "    formatted_loss.append(np.sum(np.array(comp_losses_arr[i]),axis=0) / n_runs)\n",
    "    loss_variance.append(np.var(comp_losses_arr[i],axis=0))\n",
    "\n",
    "\n",
    "temp = []\n",
    "for i in range(10):\n",
    "    temp.append(formatted_loss[0][1875*i])\n",
    "formatted_loss[0] = temp"
   ]
  },
  {
   "cell_type": "code",
   "execution_count": 22,
   "id": "14b403b9-5a1b-4f8e-b856-a88498efb7c5",
   "metadata": {},
   "outputs": [],
   "source": [
    "def format_append(mu, var):\n",
    "    return str(round(mu,3))+\"±\"+str(round(var,3))"
   ]
  },
  {
   "cell_type": "code",
   "execution_count": 23,
   "id": "57f4df29-4037-4a86-9251-3512cbfbf582",
   "metadata": {
    "scrolled": true
   },
   "outputs": [],
   "source": [
    "table = PrettyTable()\n",
    "header_row = [\"Model\",\"First Epoch Loss\" , \"Last Epoch Loss\", \"First Epoch Accuracy\", \"Last Epoch Accuracy\"]\n",
    "table_rows = []\n",
    "for i in range(len(labels)):\n",
    "    vals = [\n",
    "        labels[i],\n",
    "        format_append(formatted_loss[i][0], loss_variance[i][0]),\n",
    "        format_append(formatted_loss[i][-1], loss_variance[i][-1]),\n",
    "        format_append(formatted_val_acc[i][0], val_acc_variance[i][0]),\n",
    "        format_append(formatted_val_acc[i][-1], val_acc_variance[i][-1]),\n",
    "    ]\n",
    "    table_rows.append(vals)\n",
    "table.field_names = header_row\n",
    "table.add_rows(table_rows)"
   ]
  },
  {
   "cell_type": "code",
   "execution_count": 24,
   "id": "f197b0e7-4291-4ff8-bf44-348fa19f8f1c",
   "metadata": {},
   "outputs": [
    {
     "name": "stdout",
     "output_type": "stream",
     "text": [
      "Summary of runs\n",
      "+-----------+------------------+-----------------+----------------------+---------------------+\n",
      "|   Model   | First Epoch Loss | Last Epoch Loss | First Epoch Accuracy | Last Epoch Accuracy |\n",
      "+-----------+------------------+-----------------+----------------------+---------------------+\n",
      "| Reference |   0.231±0.017    |    0.32±0.001   |      0.864±0.0       |      0.866±0.0      |\n",
      "|    1:1    |   0.643±0.015    |    0.544±0.0    |      0.822±0.0       |      0.829±0.0      |\n",
      "|    1:3    |   1.665±0.056    |    1.475±0.0    |      0.823±0.0       |      0.828±0.0      |\n",
      "|    3:1    |   0.862±0.054    |    0.684±0.0    |       0.83±0.0       |      0.845±0.0      |\n",
      "|    1:5    |    2.72±0.15     |    2.402±0.0    |      0.814±0.0       |      0.827±0.0      |\n",
      "|    5:1    |   1.162±0.118    |   0.871±0.001   |      0.831±0.0       |      0.838±0.0      |\n",
      "+-----------+------------------+-----------------+----------------------+---------------------+\n"
     ]
    }
   ],
   "source": [
    "print(\"Summary of runs\")\n",
    "print(table)"
   ]
  },
  {
   "cell_type": "code",
   "execution_count": 43,
   "id": "8207dd86-3922-4365-8a31-09f17c000992",
   "metadata": {},
   "outputs": [],
   "source": [
    "df = pd.DataFrame(table.rows, columns=table.field_names)\n",
    "df = df.sort_values(by='Last Epoch Accuracy', ascending=False)\n",
    "colors_1 = ['#FF6A00' if x[0] == \"Reference\" else 'lightcyan' for x in df.to_numpy()]"
   ]
  },
  {
   "cell_type": "code",
   "execution_count": 49,
   "id": "9984e113-9294-4a15-9479-f8105fdf655c",
   "metadata": {},
   "outputs": [
    {
     "data": {
      "text/plain": [
       "Index(['Model', 'First Epoch Loss', 'Last Epoch Loss', 'First Epoch Accuracy',\n",
       "       'Last Epoch Accuracy'],\n",
       "      dtype='object')"
      ]
     },
     "execution_count": 49,
     "metadata": {},
     "output_type": "execute_result"
    }
   ],
   "source": [
    "df.columns"
   ]
  },
  {
   "cell_type": "code",
   "execution_count": 50,
   "id": "e93ed428-dff3-4c06-b639-7c55cec975c4",
   "metadata": {},
   "outputs": [
    {
     "data": {
      "application/vnd.plotly.v1+json": {
       "config": {
        "plotlyServerURL": "https://plot.ly"
       },
       "data": [
        {
         "cells": {
          "align": "left",
          "fill": {
           "color": [
            [
             "#FF6A00",
             "lightcyan",
             "lightcyan",
             "lightcyan",
             "lightcyan",
             "lightcyan"
            ]
           ]
          },
          "line": {
           "color": "white"
          },
          "values": [
           [
            "Reference",
            "3:1",
            "5:1",
            "1:1",
            "1:3",
            "1:5"
           ],
           [
            "0.864±0.0",
            "0.83±0.0",
            "0.831±0.0",
            "0.822±0.0",
            "0.823±0.0",
            "0.814±0.0"
           ],
           [
            "0.866±0.0",
            "0.845±0.0",
            "0.838±0.0",
            "0.829±0.0",
            "0.828±0.0",
            "0.827±0.0"
           ],
           [
            "0.231±0.017",
            "0.862±0.054",
            "1.162±0.118",
            "0.643±0.015",
            "1.665±0.056",
            "2.72±0.15"
           ],
           [
            "0.32±0.001",
            "0.684±0.0",
            "0.871±0.001",
            "0.544±0.0",
            "1.475±0.0",
            "2.402±0.0"
           ]
          ]
         },
         "header": {
          "align": "left",
          "fill": {
           "color": "lightskyblue"
          },
          "line": {
           "color": "darkslategray"
          },
          "values": [
           "Model",
           "First Epoch Accuracy",
           "Last Epoch Accuracy",
           "First Epoch Loss",
           "Last Epoch Loss"
          ]
         },
         "type": "table"
        }
       ],
       "layout": {
        "height": 500,
        "template": {
         "data": {
          "bar": [
           {
            "error_x": {
             "color": "#2a3f5f"
            },
            "error_y": {
             "color": "#2a3f5f"
            },
            "marker": {
             "line": {
              "color": "#E5ECF6",
              "width": 0.5
             },
             "pattern": {
              "fillmode": "overlay",
              "size": 10,
              "solidity": 0.2
             }
            },
            "type": "bar"
           }
          ],
          "barpolar": [
           {
            "marker": {
             "line": {
              "color": "#E5ECF6",
              "width": 0.5
             },
             "pattern": {
              "fillmode": "overlay",
              "size": 10,
              "solidity": 0.2
             }
            },
            "type": "barpolar"
           }
          ],
          "carpet": [
           {
            "aaxis": {
             "endlinecolor": "#2a3f5f",
             "gridcolor": "white",
             "linecolor": "white",
             "minorgridcolor": "white",
             "startlinecolor": "#2a3f5f"
            },
            "baxis": {
             "endlinecolor": "#2a3f5f",
             "gridcolor": "white",
             "linecolor": "white",
             "minorgridcolor": "white",
             "startlinecolor": "#2a3f5f"
            },
            "type": "carpet"
           }
          ],
          "choropleth": [
           {
            "colorbar": {
             "outlinewidth": 0,
             "ticks": ""
            },
            "type": "choropleth"
           }
          ],
          "contour": [
           {
            "colorbar": {
             "outlinewidth": 0,
             "ticks": ""
            },
            "colorscale": [
             [
              0,
              "#0d0887"
             ],
             [
              0.1111111111111111,
              "#46039f"
             ],
             [
              0.2222222222222222,
              "#7201a8"
             ],
             [
              0.3333333333333333,
              "#9c179e"
             ],
             [
              0.4444444444444444,
              "#bd3786"
             ],
             [
              0.5555555555555556,
              "#d8576b"
             ],
             [
              0.6666666666666666,
              "#ed7953"
             ],
             [
              0.7777777777777778,
              "#fb9f3a"
             ],
             [
              0.8888888888888888,
              "#fdca26"
             ],
             [
              1,
              "#f0f921"
             ]
            ],
            "type": "contour"
           }
          ],
          "contourcarpet": [
           {
            "colorbar": {
             "outlinewidth": 0,
             "ticks": ""
            },
            "type": "contourcarpet"
           }
          ],
          "heatmap": [
           {
            "colorbar": {
             "outlinewidth": 0,
             "ticks": ""
            },
            "colorscale": [
             [
              0,
              "#0d0887"
             ],
             [
              0.1111111111111111,
              "#46039f"
             ],
             [
              0.2222222222222222,
              "#7201a8"
             ],
             [
              0.3333333333333333,
              "#9c179e"
             ],
             [
              0.4444444444444444,
              "#bd3786"
             ],
             [
              0.5555555555555556,
              "#d8576b"
             ],
             [
              0.6666666666666666,
              "#ed7953"
             ],
             [
              0.7777777777777778,
              "#fb9f3a"
             ],
             [
              0.8888888888888888,
              "#fdca26"
             ],
             [
              1,
              "#f0f921"
             ]
            ],
            "type": "heatmap"
           }
          ],
          "heatmapgl": [
           {
            "colorbar": {
             "outlinewidth": 0,
             "ticks": ""
            },
            "colorscale": [
             [
              0,
              "#0d0887"
             ],
             [
              0.1111111111111111,
              "#46039f"
             ],
             [
              0.2222222222222222,
              "#7201a8"
             ],
             [
              0.3333333333333333,
              "#9c179e"
             ],
             [
              0.4444444444444444,
              "#bd3786"
             ],
             [
              0.5555555555555556,
              "#d8576b"
             ],
             [
              0.6666666666666666,
              "#ed7953"
             ],
             [
              0.7777777777777778,
              "#fb9f3a"
             ],
             [
              0.8888888888888888,
              "#fdca26"
             ],
             [
              1,
              "#f0f921"
             ]
            ],
            "type": "heatmapgl"
           }
          ],
          "histogram": [
           {
            "marker": {
             "pattern": {
              "fillmode": "overlay",
              "size": 10,
              "solidity": 0.2
             }
            },
            "type": "histogram"
           }
          ],
          "histogram2d": [
           {
            "colorbar": {
             "outlinewidth": 0,
             "ticks": ""
            },
            "colorscale": [
             [
              0,
              "#0d0887"
             ],
             [
              0.1111111111111111,
              "#46039f"
             ],
             [
              0.2222222222222222,
              "#7201a8"
             ],
             [
              0.3333333333333333,
              "#9c179e"
             ],
             [
              0.4444444444444444,
              "#bd3786"
             ],
             [
              0.5555555555555556,
              "#d8576b"
             ],
             [
              0.6666666666666666,
              "#ed7953"
             ],
             [
              0.7777777777777778,
              "#fb9f3a"
             ],
             [
              0.8888888888888888,
              "#fdca26"
             ],
             [
              1,
              "#f0f921"
             ]
            ],
            "type": "histogram2d"
           }
          ],
          "histogram2dcontour": [
           {
            "colorbar": {
             "outlinewidth": 0,
             "ticks": ""
            },
            "colorscale": [
             [
              0,
              "#0d0887"
             ],
             [
              0.1111111111111111,
              "#46039f"
             ],
             [
              0.2222222222222222,
              "#7201a8"
             ],
             [
              0.3333333333333333,
              "#9c179e"
             ],
             [
              0.4444444444444444,
              "#bd3786"
             ],
             [
              0.5555555555555556,
              "#d8576b"
             ],
             [
              0.6666666666666666,
              "#ed7953"
             ],
             [
              0.7777777777777778,
              "#fb9f3a"
             ],
             [
              0.8888888888888888,
              "#fdca26"
             ],
             [
              1,
              "#f0f921"
             ]
            ],
            "type": "histogram2dcontour"
           }
          ],
          "mesh3d": [
           {
            "colorbar": {
             "outlinewidth": 0,
             "ticks": ""
            },
            "type": "mesh3d"
           }
          ],
          "parcoords": [
           {
            "line": {
             "colorbar": {
              "outlinewidth": 0,
              "ticks": ""
             }
            },
            "type": "parcoords"
           }
          ],
          "pie": [
           {
            "automargin": true,
            "type": "pie"
           }
          ],
          "scatter": [
           {
            "fillpattern": {
             "fillmode": "overlay",
             "size": 10,
             "solidity": 0.2
            },
            "type": "scatter"
           }
          ],
          "scatter3d": [
           {
            "line": {
             "colorbar": {
              "outlinewidth": 0,
              "ticks": ""
             }
            },
            "marker": {
             "colorbar": {
              "outlinewidth": 0,
              "ticks": ""
             }
            },
            "type": "scatter3d"
           }
          ],
          "scattercarpet": [
           {
            "marker": {
             "colorbar": {
              "outlinewidth": 0,
              "ticks": ""
             }
            },
            "type": "scattercarpet"
           }
          ],
          "scattergeo": [
           {
            "marker": {
             "colorbar": {
              "outlinewidth": 0,
              "ticks": ""
             }
            },
            "type": "scattergeo"
           }
          ],
          "scattergl": [
           {
            "marker": {
             "colorbar": {
              "outlinewidth": 0,
              "ticks": ""
             }
            },
            "type": "scattergl"
           }
          ],
          "scattermapbox": [
           {
            "marker": {
             "colorbar": {
              "outlinewidth": 0,
              "ticks": ""
             }
            },
            "type": "scattermapbox"
           }
          ],
          "scatterpolar": [
           {
            "marker": {
             "colorbar": {
              "outlinewidth": 0,
              "ticks": ""
             }
            },
            "type": "scatterpolar"
           }
          ],
          "scatterpolargl": [
           {
            "marker": {
             "colorbar": {
              "outlinewidth": 0,
              "ticks": ""
             }
            },
            "type": "scatterpolargl"
           }
          ],
          "scatterternary": [
           {
            "marker": {
             "colorbar": {
              "outlinewidth": 0,
              "ticks": ""
             }
            },
            "type": "scatterternary"
           }
          ],
          "surface": [
           {
            "colorbar": {
             "outlinewidth": 0,
             "ticks": ""
            },
            "colorscale": [
             [
              0,
              "#0d0887"
             ],
             [
              0.1111111111111111,
              "#46039f"
             ],
             [
              0.2222222222222222,
              "#7201a8"
             ],
             [
              0.3333333333333333,
              "#9c179e"
             ],
             [
              0.4444444444444444,
              "#bd3786"
             ],
             [
              0.5555555555555556,
              "#d8576b"
             ],
             [
              0.6666666666666666,
              "#ed7953"
             ],
             [
              0.7777777777777778,
              "#fb9f3a"
             ],
             [
              0.8888888888888888,
              "#fdca26"
             ],
             [
              1,
              "#f0f921"
             ]
            ],
            "type": "surface"
           }
          ],
          "table": [
           {
            "cells": {
             "fill": {
              "color": "#EBF0F8"
             },
             "line": {
              "color": "white"
             }
            },
            "header": {
             "fill": {
              "color": "#C8D4E3"
             },
             "line": {
              "color": "white"
             }
            },
            "type": "table"
           }
          ]
         },
         "layout": {
          "annotationdefaults": {
           "arrowcolor": "#2a3f5f",
           "arrowhead": 0,
           "arrowwidth": 1
          },
          "autotypenumbers": "strict",
          "coloraxis": {
           "colorbar": {
            "outlinewidth": 0,
            "ticks": ""
           }
          },
          "colorscale": {
           "diverging": [
            [
             0,
             "#8e0152"
            ],
            [
             0.1,
             "#c51b7d"
            ],
            [
             0.2,
             "#de77ae"
            ],
            [
             0.3,
             "#f1b6da"
            ],
            [
             0.4,
             "#fde0ef"
            ],
            [
             0.5,
             "#f7f7f7"
            ],
            [
             0.6,
             "#e6f5d0"
            ],
            [
             0.7,
             "#b8e186"
            ],
            [
             0.8,
             "#7fbc41"
            ],
            [
             0.9,
             "#4d9221"
            ],
            [
             1,
             "#276419"
            ]
           ],
           "sequential": [
            [
             0,
             "#0d0887"
            ],
            [
             0.1111111111111111,
             "#46039f"
            ],
            [
             0.2222222222222222,
             "#7201a8"
            ],
            [
             0.3333333333333333,
             "#9c179e"
            ],
            [
             0.4444444444444444,
             "#bd3786"
            ],
            [
             0.5555555555555556,
             "#d8576b"
            ],
            [
             0.6666666666666666,
             "#ed7953"
            ],
            [
             0.7777777777777778,
             "#fb9f3a"
            ],
            [
             0.8888888888888888,
             "#fdca26"
            ],
            [
             1,
             "#f0f921"
            ]
           ],
           "sequentialminus": [
            [
             0,
             "#0d0887"
            ],
            [
             0.1111111111111111,
             "#46039f"
            ],
            [
             0.2222222222222222,
             "#7201a8"
            ],
            [
             0.3333333333333333,
             "#9c179e"
            ],
            [
             0.4444444444444444,
             "#bd3786"
            ],
            [
             0.5555555555555556,
             "#d8576b"
            ],
            [
             0.6666666666666666,
             "#ed7953"
            ],
            [
             0.7777777777777778,
             "#fb9f3a"
            ],
            [
             0.8888888888888888,
             "#fdca26"
            ],
            [
             1,
             "#f0f921"
            ]
           ]
          },
          "colorway": [
           "#636efa",
           "#EF553B",
           "#00cc96",
           "#ab63fa",
           "#FFA15A",
           "#19d3f3",
           "#FF6692",
           "#B6E880",
           "#FF97FF",
           "#FECB52"
          ],
          "font": {
           "color": "#2a3f5f"
          },
          "geo": {
           "bgcolor": "white",
           "lakecolor": "white",
           "landcolor": "#E5ECF6",
           "showlakes": true,
           "showland": true,
           "subunitcolor": "white"
          },
          "hoverlabel": {
           "align": "left"
          },
          "hovermode": "closest",
          "mapbox": {
           "style": "light"
          },
          "paper_bgcolor": "white",
          "plot_bgcolor": "#E5ECF6",
          "polar": {
           "angularaxis": {
            "gridcolor": "white",
            "linecolor": "white",
            "ticks": ""
           },
           "bgcolor": "#E5ECF6",
           "radialaxis": {
            "gridcolor": "white",
            "linecolor": "white",
            "ticks": ""
           }
          },
          "scene": {
           "xaxis": {
            "backgroundcolor": "#E5ECF6",
            "gridcolor": "white",
            "gridwidth": 2,
            "linecolor": "white",
            "showbackground": true,
            "ticks": "",
            "zerolinecolor": "white"
           },
           "yaxis": {
            "backgroundcolor": "#E5ECF6",
            "gridcolor": "white",
            "gridwidth": 2,
            "linecolor": "white",
            "showbackground": true,
            "ticks": "",
            "zerolinecolor": "white"
           },
           "zaxis": {
            "backgroundcolor": "#E5ECF6",
            "gridcolor": "white",
            "gridwidth": 2,
            "linecolor": "white",
            "showbackground": true,
            "ticks": "",
            "zerolinecolor": "white"
           }
          },
          "shapedefaults": {
           "line": {
            "color": "#2a3f5f"
           }
          },
          "ternary": {
           "aaxis": {
            "gridcolor": "white",
            "linecolor": "white",
            "ticks": ""
           },
           "baxis": {
            "gridcolor": "white",
            "linecolor": "white",
            "ticks": ""
           },
           "bgcolor": "#E5ECF6",
           "caxis": {
            "gridcolor": "white",
            "linecolor": "white",
            "ticks": ""
           }
          },
          "title": {
           "x": 0.05
          },
          "xaxis": {
           "automargin": true,
           "gridcolor": "white",
           "linecolor": "white",
           "ticks": "",
           "title": {
            "standoff": 15
           },
           "zerolinecolor": "white",
           "zerolinewidth": 2
          },
          "yaxis": {
           "automargin": true,
           "gridcolor": "white",
           "linecolor": "white",
           "ticks": "",
           "title": {
            "standoff": 15
           },
           "zerolinecolor": "white",
           "zerolinewidth": 2
          }
         }
        },
        "title": {
         "text": "Comparison of performance with varying weight ratios (Sorted by last epoch accuracy)"
        },
        "width": 1000
       }
      },
      "image/png": "[encoded data removed]",
      "text/html": [
       "<div>                            <div id=\"f53b17ca-e231-47b1-b076-9c6bb3b48b2d\" class=\"plotly-graph-div\" style=\"height:500px; width:1000px;\"></div>            <script type=\"text/javascript\">                require([\"plotly\"], function(Plotly) {                    window.PLOTLYENV=window.PLOTLYENV || {};                                    if (document.getElementById(\"f53b17ca-e231-47b1-b076-9c6bb3b48b2d\")) {                    Plotly.newPlot(                        \"f53b17ca-e231-47b1-b076-9c6bb3b48b2d\",                        [{\"cells\":{\"align\":\"left\",\"fill\":{\"color\":[[\"#FF6A00\",\"lightcyan\",\"lightcyan\",\"lightcyan\",\"lightcyan\",\"lightcyan\"]]},\"line\":{\"color\":\"white\"},\"values\":[[\"Reference\",\"3:1\",\"5:1\",\"1:1\",\"1:3\",\"1:5\"],[\"0.864\\u00b10.0\",\"0.83\\u00b10.0\",\"0.831\\u00b10.0\",\"0.822\\u00b10.0\",\"0.823\\u00b10.0\",\"0.814\\u00b10.0\"],[\"0.866\\u00b10.0\",\"0.845\\u00b10.0\",\"0.838\\u00b10.0\",\"0.829\\u00b10.0\",\"0.828\\u00b10.0\",\"0.827\\u00b10.0\"],[\"0.231\\u00b10.017\",\"0.862\\u00b10.054\",\"1.162\\u00b10.118\",\"0.643\\u00b10.015\",\"1.665\\u00b10.056\",\"2.72\\u00b10.15\"],[\"0.32\\u00b10.001\",\"0.684\\u00b10.0\",\"0.871\\u00b10.001\",\"0.544\\u00b10.0\",\"1.475\\u00b10.0\",\"2.402\\u00b10.0\"]]},\"header\":{\"align\":\"left\",\"fill\":{\"color\":\"lightskyblue\"},\"line\":{\"color\":\"darkslategray\"},\"values\":[\"Model\",\"First Epoch Accuracy\",\"Last Epoch Accuracy\",\"First Epoch Loss\",\"Last Epoch Loss\"]},\"type\":\"table\"}],                        {\"template\":{\"data\":{\"histogram2dcontour\":[{\"type\":\"histogram2dcontour\",\"colorbar\":{\"outlinewidth\":0,\"ticks\":\"\"},\"colorscale\":[[0.0,\"#0d0887\"],[0.1111111111111111,\"#46039f\"],[0.2222222222222222,\"#7201a8\"],[0.3333333333333333,\"#9c179e\"],[0.4444444444444444,\"#bd3786\"],[0.5555555555555556,\"#d8576b\"],[0.6666666666666666,\"#ed7953\"],[0.7777777777777778,\"#fb9f3a\"],[0.8888888888888888,\"#fdca26\"],[1.0,\"#f0f921\"]]}],\"choropleth\":[{\"type\":\"choropleth\",\"colorbar\":{\"outlinewidth\":0,\"ticks\":\"\"}}],\"histogram2d\":[{\"type\":\"histogram2d\",\"colorbar\":{\"outlinewidth\":0,\"ticks\":\"\"},\"colorscale\":[[0.0,\"#0d0887\"],[0.1111111111111111,\"#46039f\"],[0.2222222222222222,\"#7201a8\"],[0.3333333333333333,\"#9c179e\"],[0.4444444444444444,\"#bd3786\"],[0.5555555555555556,\"#d8576b\"],[0.6666666666666666,\"#ed7953\"],[0.7777777777777778,\"#fb9f3a\"],[0.8888888888888888,\"#fdca26\"],[1.0,\"#f0f921\"]]}],\"heatmap\":[{\"type\":\"heatmap\",\"colorbar\":{\"outlinewidth\":0,\"ticks\":\"\"},\"colorscale\":[[0.0,\"#0d0887\"],[0.1111111111111111,\"#46039f\"],[0.2222222222222222,\"#7201a8\"],[0.3333333333333333,\"#9c179e\"],[0.4444444444444444,\"#bd3786\"],[0.5555555555555556,\"#d8576b\"],[0.6666666666666666,\"#ed7953\"],[0.7777777777777778,\"#fb9f3a\"],[0.8888888888888888,\"#fdca26\"],[1.0,\"#f0f921\"]]}],\"heatmapgl\":[{\"type\":\"heatmapgl\",\"colorbar\":{\"outlinewidth\":0,\"ticks\":\"\"},\"colorscale\":[[0.0,\"#0d0887\"],[0.1111111111111111,\"#46039f\"],[0.2222222222222222,\"#7201a8\"],[0.3333333333333333,\"#9c179e\"],[0.4444444444444444,\"#bd3786\"],[0.5555555555555556,\"#d8576b\"],[0.6666666666666666,\"#ed7953\"],[0.7777777777777778,\"#fb9f3a\"],[0.8888888888888888,\"#fdca26\"],[1.0,\"#f0f921\"]]}],\"contourcarpet\":[{\"type\":\"contourcarpet\",\"colorbar\":{\"outlinewidth\":0,\"ticks\":\"\"}}],\"contour\":[{\"type\":\"contour\",\"colorbar\":{\"outlinewidth\":0,\"ticks\":\"\"},\"colorscale\":[[0.0,\"#0d0887\"],[0.1111111111111111,\"#46039f\"],[0.2222222222222222,\"#7201a8\"],[0.3333333333333333,\"#9c179e\"],[0.4444444444444444,\"#bd3786\"],[0.5555555555555556,\"#d8576b\"],[0.6666666666666666,\"#ed7953\"],[0.7777777777777778,\"#fb9f3a\"],[0.8888888888888888,\"#fdca26\"],[1.0,\"#f0f921\"]]}],\"surface\":[{\"type\":\"surface\",\"colorbar\":{\"outlinewidth\":0,\"ticks\":\"\"},\"colorscale\":[[0.0,\"#0d0887\"],[0.1111111111111111,\"#46039f\"],[0.2222222222222222,\"#7201a8\"],[0.3333333333333333,\"#9c179e\"],[0.4444444444444444,\"#bd3786\"],[0.5555555555555556,\"#d8576b\"],[0.6666666666666666,\"#ed7953\"],[0.7777777777777778,\"#fb9f3a\"],[0.8888888888888888,\"#fdca26\"],[1.0,\"#f0f921\"]]}],\"mesh3d\":[{\"type\":\"mesh3d\",\"colorbar\":{\"outlinewidth\":0,\"ticks\":\"\"}}],\"scatter\":[{\"fillpattern\":{\"fillmode\":\"overlay\",\"size\":10,\"solidity\":0.2},\"type\":\"scatter\"}],\"parcoords\":[{\"type\":\"parcoords\",\"line\":{\"colorbar\":{\"outlinewidth\":0,\"ticks\":\"\"}}}],\"scatterpolargl\":[{\"type\":\"scatterpolargl\",\"marker\":{\"colorbar\":{\"outlinewidth\":0,\"ticks\":\"\"}}}],\"bar\":[{\"error_x\":{\"color\":\"#2a3f5f\"},\"error_y\":{\"color\":\"#2a3f5f\"},\"marker\":{\"line\":{\"color\":\"#E5ECF6\",\"width\":0.5},\"pattern\":{\"fillmode\":\"overlay\",\"size\":10,\"solidity\":0.2}},\"type\":\"bar\"}],\"scattergeo\":[{\"type\":\"scattergeo\",\"marker\":{\"colorbar\":{\"outlinewidth\":0,\"ticks\":\"\"}}}],\"scatterpolar\":[{\"type\":\"scatterpolar\",\"marker\":{\"colorbar\":{\"outlinewidth\":0,\"ticks\":\"\"}}}],\"histogram\":[{\"marker\":{\"pattern\":{\"fillmode\":\"overlay\",\"size\":10,\"solidity\":0.2}},\"type\":\"histogram\"}],\"scattergl\":[{\"type\":\"scattergl\",\"marker\":{\"colorbar\":{\"outlinewidth\":0,\"ticks\":\"\"}}}],\"scatter3d\":[{\"type\":\"scatter3d\",\"line\":{\"colorbar\":{\"outlinewidth\":0,\"ticks\":\"\"}},\"marker\":{\"colorbar\":{\"outlinewidth\":0,\"ticks\":\"\"}}}],\"scattermapbox\":[{\"type\":\"scattermapbox\",\"marker\":{\"colorbar\":{\"outlinewidth\":0,\"ticks\":\"\"}}}],\"scatterternary\":[{\"type\":\"scatterternary\",\"marker\":{\"colorbar\":{\"outlinewidth\":0,\"ticks\":\"\"}}}],\"scattercarpet\":[{\"type\":\"scattercarpet\",\"marker\":{\"colorbar\":{\"outlinewidth\":0,\"ticks\":\"\"}}}],\"carpet\":[{\"aaxis\":{\"endlinecolor\":\"#2a3f5f\",\"gridcolor\":\"white\",\"linecolor\":\"white\",\"minorgridcolor\":\"white\",\"startlinecolor\":\"#2a3f5f\"},\"baxis\":{\"endlinecolor\":\"#2a3f5f\",\"gridcolor\":\"white\",\"linecolor\":\"white\",\"minorgridcolor\":\"white\",\"startlinecolor\":\"#2a3f5f\"},\"type\":\"carpet\"}],\"table\":[{\"cells\":{\"fill\":{\"color\":\"#EBF0F8\"},\"line\":{\"color\":\"white\"}},\"header\":{\"fill\":{\"color\":\"#C8D4E3\"},\"line\":{\"color\":\"white\"}},\"type\":\"table\"}],\"barpolar\":[{\"marker\":{\"line\":{\"color\":\"#E5ECF6\",\"width\":0.5},\"pattern\":{\"fillmode\":\"overlay\",\"size\":10,\"solidity\":0.2}},\"type\":\"barpolar\"}],\"pie\":[{\"automargin\":true,\"type\":\"pie\"}]},\"layout\":{\"autotypenumbers\":\"strict\",\"colorway\":[\"#636efa\",\"#EF553B\",\"#00cc96\",\"#ab63fa\",\"#FFA15A\",\"#19d3f3\",\"#FF6692\",\"#B6E880\",\"#FF97FF\",\"#FECB52\"],\"font\":{\"color\":\"#2a3f5f\"},\"hovermode\":\"closest\",\"hoverlabel\":{\"align\":\"left\"},\"paper_bgcolor\":\"white\",\"plot_bgcolor\":\"#E5ECF6\",\"polar\":{\"bgcolor\":\"#E5ECF6\",\"angularaxis\":{\"gridcolor\":\"white\",\"linecolor\":\"white\",\"ticks\":\"\"},\"radialaxis\":{\"gridcolor\":\"white\",\"linecolor\":\"white\",\"ticks\":\"\"}},\"ternary\":{\"bgcolor\":\"#E5ECF6\",\"aaxis\":{\"gridcolor\":\"white\",\"linecolor\":\"white\",\"ticks\":\"\"},\"baxis\":{\"gridcolor\":\"white\",\"linecolor\":\"white\",\"ticks\":\"\"},\"caxis\":{\"gridcolor\":\"white\",\"linecolor\":\"white\",\"ticks\":\"\"}},\"coloraxis\":{\"colorbar\":{\"outlinewidth\":0,\"ticks\":\"\"}},\"colorscale\":{\"sequential\":[[0.0,\"#0d0887\"],[0.1111111111111111,\"#46039f\"],[0.2222222222222222,\"#7201a8\"],[0.3333333333333333,\"#9c179e\"],[0.4444444444444444,\"#bd3786\"],[0.5555555555555556,\"#d8576b\"],[0.6666666666666666,\"#ed7953\"],[0.7777777777777778,\"#fb9f3a\"],[0.8888888888888888,\"#fdca26\"],[1.0,\"#f0f921\"]],\"sequentialminus\":[[0.0,\"#0d0887\"],[0.1111111111111111,\"#46039f\"],[0.2222222222222222,\"#7201a8\"],[0.3333333333333333,\"#9c179e\"],[0.4444444444444444,\"#bd3786\"],[0.5555555555555556,\"#d8576b\"],[0.6666666666666666,\"#ed7953\"],[0.7777777777777778,\"#fb9f3a\"],[0.8888888888888888,\"#fdca26\"],[1.0,\"#f0f921\"]],\"diverging\":[[0,\"#8e0152\"],[0.1,\"#c51b7d\"],[0.2,\"#de77ae\"],[0.3,\"#f1b6da\"],[0.4,\"#fde0ef\"],[0.5,\"#f7f7f7\"],[0.6,\"#e6f5d0\"],[0.7,\"#b8e186\"],[0.8,\"#7fbc41\"],[0.9,\"#4d9221\"],[1,\"#276419\"]]},\"xaxis\":{\"gridcolor\":\"white\",\"linecolor\":\"white\",\"ticks\":\"\",\"title\":{\"standoff\":15},\"zerolinecolor\":\"white\",\"automargin\":true,\"zerolinewidth\":2},\"yaxis\":{\"gridcolor\":\"white\",\"linecolor\":\"white\",\"ticks\":\"\",\"title\":{\"standoff\":15},\"zerolinecolor\":\"white\",\"automargin\":true,\"zerolinewidth\":2},\"scene\":{\"xaxis\":{\"backgroundcolor\":\"#E5ECF6\",\"gridcolor\":\"white\",\"linecolor\":\"white\",\"showbackground\":true,\"ticks\":\"\",\"zerolinecolor\":\"white\",\"gridwidth\":2},\"yaxis\":{\"backgroundcolor\":\"#E5ECF6\",\"gridcolor\":\"white\",\"linecolor\":\"white\",\"showbackground\":true,\"ticks\":\"\",\"zerolinecolor\":\"white\",\"gridwidth\":2},\"zaxis\":{\"backgroundcolor\":\"#E5ECF6\",\"gridcolor\":\"white\",\"linecolor\":\"white\",\"showbackground\":true,\"ticks\":\"\",\"zerolinecolor\":\"white\",\"gridwidth\":2}},\"shapedefaults\":{\"line\":{\"color\":\"#2a3f5f\"}},\"annotationdefaults\":{\"arrowcolor\":\"#2a3f5f\",\"arrowhead\":0,\"arrowwidth\":1},\"geo\":{\"bgcolor\":\"white\",\"landcolor\":\"#E5ECF6\",\"subunitcolor\":\"white\",\"showland\":true,\"showlakes\":true,\"lakecolor\":\"white\"},\"title\":{\"x\":0.05},\"mapbox\":{\"style\":\"light\"}}},\"height\":500,\"width\":1000,\"title\":{\"text\":\"Comparison of performance with varying weight ratios (Sorted by last epoch accuracy)\"}},                        {\"responsive\": true}                    ).then(function(){\n",
       "                            \n",
       "var gd = document.getElementById('f53b17ca-e231-47b1-b076-9c6bb3b48b2d');\n",
       "var x = new MutationObserver(function (mutations, observer) {{\n",
       "        var display = window.getComputedStyle(gd).display;\n",
       "        if (!display || display === 'none') {{\n",
       "            console.log([gd, 'removed!']);\n",
       "            Plotly.purge(gd);\n",
       "            observer.disconnect();\n",
       "        }}\n",
       "}});\n",
       "\n",
       "// Listen for the removal of the full notebook cells\n",
       "var notebookContainer = gd.closest('#notebook-container');\n",
       "if (notebookContainer) {{\n",
       "    x.observe(notebookContainer, {childList: true});\n",
       "}}\n",
       "\n",
       "// Listen for the clearing of the current output cell\n",
       "var outputEl = gd.closest('.output');\n",
       "if (outputEl) {{\n",
       "    x.observe(outputEl, {childList: true});\n",
       "}}\n",
       "\n",
       "                        })                };                });            </script>        </div>"
      ]
     },
     "metadata": {},
     "output_type": "display_data"
    }
   ],
   "source": [
    "fig = go.Figure(data=[go.Table(\n",
    "    header=dict(values=['Model', 'First Epoch Accuracy','Last Epoch Accuracy',  'First Epoch Loss', 'Last Epoch Loss'],\n",
    "                align='left',\n",
    "                line_color='darkslategray',\n",
    "                fill_color='lightskyblue'),\n",
    "    cells=dict(values=[df[\"Model\"], df[\"First Epoch Accuracy\"], df[\"Last Epoch Accuracy\"], df[\"First Epoch Loss\"], df[\"Last Epoch Loss\"]],\n",
    "               align='left',\n",
    "               line_color='white',\n",
    "               fill_color=[colors_1]\n",
    "              \n",
    "              ))\n",
    "])\n",
    "\n",
    "fig.update_layout(\n",
    "    height=500,\n",
    "    width=1000,\n",
    "    title=\"Comparison of performance with varying weight ratios (Sorted by last epoch accuracy)\"\n",
    ")\n",
    "\n",
    "fig.show()"
   ]
  },
  {
   "cell_type": "code",
   "execution_count": 25,
   "id": "145649e7-5cab-489b-a23f-f17b74ae5707",
   "metadata": {},
   "outputs": [
    {
     "data": {
      "image/png": "[encoded data removed]",
      "text/plain": [
       "<Figure size 640x480 with 1 Axes>"
      ]
     },
     "metadata": {},
     "output_type": "display_data"
    }
   ],
   "source": [
    "for i in range(len(formatted_loss)):\n",
    "    plt.plot(formatted_loss[i], label=labels[i])\n",
    "plt.legend()\n",
    "plt.xlabel(\"Epochs\")\n",
    "plt.ylabel(\"Loss\")\n",
    "plt.title(\"Loss of each model per epoch\")\n",
    "plt.show()"
   ]
  },
  {
   "cell_type": "code",
   "execution_count": 26,
   "id": "b33ef8cc-d06b-4e69-a47d-86c8ac04cc5e",
   "metadata": {},
   "outputs": [
    {
     "data": {
      "image/png": "[encoded data removed]",
      "text/plain": [
       "<Figure size 640x480 with 1 Axes>"
      ]
     },
     "metadata": {},
     "output_type": "display_data"
    }
   ],
   "source": [
    "shortened = [formatted_loss[0], formatted_loss[1], formatted_loss[3], formatted_loss[5]]\n",
    "shortened_labels = [labels[0], labels[1], labels[3], labels[5]]\n",
    "\n",
    "for i in range(len(shortened)):\n",
    "    plt.plot(shortened[i], label=shortened_labels[i])\n",
    "plt.legend()\n",
    "plt.xlabel(\"Epochs\")\n",
    "plt.ylabel(\"Loss\")\n",
    "plt.title(\"Loss of each model per epoch - Smaller subset\")\n",
    "plt.show()"
   ]
  },
  {
   "cell_type": "code",
   "execution_count": 27,
   "id": "6981bfce-57de-4802-94ff-2648d56fbae8",
   "metadata": {},
   "outputs": [
    {
     "data": {
      "image/png": "[encoded data removed]",
      "text/plain": [
       "<Figure size 640x480 with 1 Axes>"
      ]
     },
     "metadata": {},
     "output_type": "display_data"
    }
   ],
   "source": [
    "for i in range(len(formatted_val_acc)):\n",
    "    plt.plot(formatted_val_acc[i], label=labels[i])\n",
    "plt.legend()\n",
    "plt.xlabel(\"Epochs\")\n",
    "plt.ylabel(\"Accuracy\")\n",
    "plt.title(\"Accuracy of each model per epoch\")\n",
    "plt.show()"
   ]
  }
 ],
 "metadata": {
  "kernelspec": {
   "display_name": "Python 3 (ipykernel)",
   "language": "python",
   "name": "python3"
  },
  "language_info": {
   "codemirror_mode": {
    "name": "ipython",
    "version": 3
   },
   "file_extension": ".py",
   "mimetype": "text/x-python",
   "name": "python",
   "nbconvert_exporter": "python",
   "pygments_lexer": "ipython3",
   "version": "3.8.19"
  }
 },
 "nbformat": 4,
 "nbformat_minor": 5
}
